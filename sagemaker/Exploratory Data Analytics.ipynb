{
 "cells": [
  {
   "cell_type": "markdown",
   "metadata": {},
   "source": [
    "## Exploratory Data Analytics for Fraud Detection"
   ]
  },
  {
   "cell_type": "code",
   "execution_count": 2,
   "metadata": {
    "colab": {
     "base_uri": "https://localhost:8080/"
    },
    "id": "wge5hbyMyJia",
    "outputId": "03b0cc58-1214-4070-cd75-e9097430c08c"
   },
   "outputs": [
    {
     "name": "stdout",
     "output_type": "stream",
     "text": [
      "Collecting feature_engine\n",
      "  Downloading feature_engine-1.3.0-py2.py3-none-any.whl (260 kB)\n",
      "     |████████████████████████████████| 260 kB 25.3 MB/s            \n",
      "\u001b[?25hCollecting imbalanced_learn\n",
      "  Downloading imbalanced_learn-0.9.0-py3-none-any.whl (199 kB)\n",
      "     |████████████████████████████████| 199 kB 41.5 MB/s            \n",
      "\u001b[?25hRequirement already satisfied: statsmodels>=0.11.1 in /home/ec2-user/anaconda3/envs/python3/lib/python3.6/site-packages (from feature_engine) (0.12.2)\n",
      "Requirement already satisfied: pandas>=1.0.3 in /home/ec2-user/anaconda3/envs/python3/lib/python3.6/site-packages (from feature_engine) (1.1.5)\n",
      "Collecting feature_engine\n",
      "  Downloading feature_engine-1.2.0-py2.py3-none-any.whl (205 kB)\n",
      "     |████████████████████████████████| 205 kB 68.6 MB/s            \n",
      "\u001b[?25hRequirement already satisfied: scikit-learn>=0.22.2 in /home/ec2-user/anaconda3/envs/python3/lib/python3.6/site-packages (from feature_engine) (0.24.1)\n",
      "Requirement already satisfied: scipy>=1.4.1 in /home/ec2-user/anaconda3/envs/python3/lib/python3.6/site-packages (from feature_engine) (1.5.3)\n",
      "Requirement already satisfied: numpy>=1.18.2 in /home/ec2-user/anaconda3/envs/python3/lib/python3.6/site-packages (from feature_engine) (1.19.5)\n",
      "Requirement already satisfied: joblib>=0.11 in /home/ec2-user/anaconda3/envs/python3/lib/python3.6/site-packages (from imbalanced_learn) (1.0.1)\n",
      "Requirement already satisfied: threadpoolctl>=2.0.0 in /home/ec2-user/anaconda3/envs/python3/lib/python3.6/site-packages (from imbalanced_learn) (2.1.0)\n",
      "Collecting imbalanced_learn\n",
      "  Downloading imbalanced_learn-0.8.1-py3-none-any.whl (189 kB)\n",
      "     |████████████████████████████████| 189 kB 57.4 MB/s            \n",
      "\u001b[?25hRequirement already satisfied: python-dateutil>=2.7.3 in /home/ec2-user/anaconda3/envs/python3/lib/python3.6/site-packages (from pandas>=1.0.3->feature_engine) (2.8.1)\n",
      "Requirement already satisfied: pytz>=2017.2 in /home/ec2-user/anaconda3/envs/python3/lib/python3.6/site-packages (from pandas>=1.0.3->feature_engine) (2021.1)\n",
      "Requirement already satisfied: patsy>=0.5 in /home/ec2-user/anaconda3/envs/python3/lib/python3.6/site-packages (from statsmodels>=0.11.1->feature_engine) (0.5.1)\n",
      "Requirement already satisfied: six in /home/ec2-user/anaconda3/envs/python3/lib/python3.6/site-packages (from patsy>=0.5->statsmodels>=0.11.1->feature_engine) (1.15.0)\n",
      "Installing collected packages: imbalanced-learn, feature-engine\n",
      "Successfully installed feature-engine-1.2.0 imbalanced-learn-0.8.1\n"
     ]
    }
   ],
   "source": [
    "!pip install feature_engine imbalanced_learn"
   ]
  },
  {
   "cell_type": "code",
   "execution_count": 4,
   "metadata": {
    "id": "iSnGtiMEtcj8"
   },
   "outputs": [],
   "source": [
    "import pandas as pd\n",
    "import numpy as np\n",
    "import matplotlib.pyplot as plt\n",
    "from feature_engine.encoding import WoEEncoder, RareLabelEncoder\n",
    "from imblearn.pipeline import Pipeline\n",
    "from imblearn.over_sampling import SMOTE"
   ]
  },
  {
   "cell_type": "markdown",
   "metadata": {},
   "source": [
    "### 0. Loading Data from the S3 Bucket"
   ]
  },
  {
   "cell_type": "code",
   "execution_count": 5,
   "metadata": {},
   "outputs": [],
   "source": [
    "train = pd.read_csv('s3://trends-marketplace-data/fraud-detection/fraudTest.csv')\n",
    "test = pd.read_csv('s3://trends-marketplace-data/fraud-detection/fraudTrain.csv')"
   ]
  },
  {
   "cell_type": "markdown",
   "metadata": {},
   "source": [
    "### 1. Data Size"
   ]
  },
  {
   "cell_type": "code",
   "execution_count": 6,
   "metadata": {
    "colab": {
     "base_uri": "https://localhost:8080/"
    },
    "id": "Y7nHzYCnvson",
    "outputId": "f1e84fe3-5e08-4fbd-f4e7-dfb53397f2d3"
   },
   "outputs": [
    {
     "data": {
      "text/plain": [
       "(555719, 23)"
      ]
     },
     "execution_count": 6,
     "metadata": {},
     "output_type": "execute_result"
    }
   ],
   "source": [
    "train.shape"
   ]
  },
  {
   "cell_type": "code",
   "execution_count": 7,
   "metadata": {
    "colab": {
     "base_uri": "https://localhost:8080/"
    },
    "id": "r9_drU6K2C1-",
    "outputId": "6f27234a-27e0-48c5-cc30-6e2682694e51"
   },
   "outputs": [
    {
     "data": {
      "text/plain": [
       "(1296675, 23)"
      ]
     },
     "execution_count": 7,
     "metadata": {},
     "output_type": "execute_result"
    }
   ],
   "source": [
    "test.shape"
   ]
  },
  {
   "cell_type": "code",
   "execution_count": 8,
   "metadata": {
    "colab": {
     "base_uri": "https://localhost:8080/",
     "height": 594
    },
    "id": "wpByuUljtnrN",
    "outputId": "b55bf4a2-e1cb-42c7-afe8-22e3e13c1fb4"
   },
   "outputs": [
    {
     "data": {
      "text/html": [
       "<div>\n",
       "<style scoped>\n",
       "    .dataframe tbody tr th:only-of-type {\n",
       "        vertical-align: middle;\n",
       "    }\n",
       "\n",
       "    .dataframe tbody tr th {\n",
       "        vertical-align: top;\n",
       "    }\n",
       "\n",
       "    .dataframe thead th {\n",
       "        text-align: right;\n",
       "    }\n",
       "</style>\n",
       "<table border=\"1\" class=\"dataframe\">\n",
       "  <thead>\n",
       "    <tr style=\"text-align: right;\">\n",
       "      <th></th>\n",
       "      <th>Unnamed: 0</th>\n",
       "      <th>trans_date_trans_time</th>\n",
       "      <th>cc_num</th>\n",
       "      <th>merchant</th>\n",
       "      <th>category</th>\n",
       "      <th>amt</th>\n",
       "      <th>first</th>\n",
       "      <th>last</th>\n",
       "      <th>gender</th>\n",
       "      <th>street</th>\n",
       "      <th>...</th>\n",
       "      <th>lat</th>\n",
       "      <th>long</th>\n",
       "      <th>city_pop</th>\n",
       "      <th>job</th>\n",
       "      <th>dob</th>\n",
       "      <th>trans_num</th>\n",
       "      <th>unix_time</th>\n",
       "      <th>merch_lat</th>\n",
       "      <th>merch_long</th>\n",
       "      <th>is_fraud</th>\n",
       "    </tr>\n",
       "  </thead>\n",
       "  <tbody>\n",
       "    <tr>\n",
       "      <th>0</th>\n",
       "      <td>0</td>\n",
       "      <td>2020-06-21 12:14:25</td>\n",
       "      <td>2291163933867244</td>\n",
       "      <td>fraud_Kirlin and Sons</td>\n",
       "      <td>personal_care</td>\n",
       "      <td>2.86</td>\n",
       "      <td>Jeff</td>\n",
       "      <td>Elliott</td>\n",
       "      <td>M</td>\n",
       "      <td>351 Darlene Green</td>\n",
       "      <td>...</td>\n",
       "      <td>33.9659</td>\n",
       "      <td>-80.9355</td>\n",
       "      <td>333497</td>\n",
       "      <td>Mechanical engineer</td>\n",
       "      <td>1968-03-19</td>\n",
       "      <td>2da90c7d74bd46a0caf3777415b3ebd3</td>\n",
       "      <td>1371816865</td>\n",
       "      <td>33.986391</td>\n",
       "      <td>-81.200714</td>\n",
       "      <td>0</td>\n",
       "    </tr>\n",
       "    <tr>\n",
       "      <th>1</th>\n",
       "      <td>1</td>\n",
       "      <td>2020-06-21 12:14:33</td>\n",
       "      <td>3573030041201292</td>\n",
       "      <td>fraud_Sporer-Keebler</td>\n",
       "      <td>personal_care</td>\n",
       "      <td>29.84</td>\n",
       "      <td>Joanne</td>\n",
       "      <td>Williams</td>\n",
       "      <td>F</td>\n",
       "      <td>3638 Marsh Union</td>\n",
       "      <td>...</td>\n",
       "      <td>40.3207</td>\n",
       "      <td>-110.4360</td>\n",
       "      <td>302</td>\n",
       "      <td>Sales professional, IT</td>\n",
       "      <td>1990-01-17</td>\n",
       "      <td>324cc204407e99f51b0d6ca0055005e7</td>\n",
       "      <td>1371816873</td>\n",
       "      <td>39.450498</td>\n",
       "      <td>-109.960431</td>\n",
       "      <td>0</td>\n",
       "    </tr>\n",
       "    <tr>\n",
       "      <th>2</th>\n",
       "      <td>2</td>\n",
       "      <td>2020-06-21 12:14:53</td>\n",
       "      <td>3598215285024754</td>\n",
       "      <td>fraud_Swaniawski, Nitzsche and Welch</td>\n",
       "      <td>health_fitness</td>\n",
       "      <td>41.28</td>\n",
       "      <td>Ashley</td>\n",
       "      <td>Lopez</td>\n",
       "      <td>F</td>\n",
       "      <td>9333 Valentine Point</td>\n",
       "      <td>...</td>\n",
       "      <td>40.6729</td>\n",
       "      <td>-73.5365</td>\n",
       "      <td>34496</td>\n",
       "      <td>Librarian, public</td>\n",
       "      <td>1970-10-21</td>\n",
       "      <td>c81755dbbbea9d5c77f094348a7579be</td>\n",
       "      <td>1371816893</td>\n",
       "      <td>40.495810</td>\n",
       "      <td>-74.196111</td>\n",
       "      <td>0</td>\n",
       "    </tr>\n",
       "    <tr>\n",
       "      <th>3</th>\n",
       "      <td>3</td>\n",
       "      <td>2020-06-21 12:15:15</td>\n",
       "      <td>3591919803438423</td>\n",
       "      <td>fraud_Haley Group</td>\n",
       "      <td>misc_pos</td>\n",
       "      <td>60.05</td>\n",
       "      <td>Brian</td>\n",
       "      <td>Williams</td>\n",
       "      <td>M</td>\n",
       "      <td>32941 Krystal Mill Apt. 552</td>\n",
       "      <td>...</td>\n",
       "      <td>28.5697</td>\n",
       "      <td>-80.8191</td>\n",
       "      <td>54767</td>\n",
       "      <td>Set designer</td>\n",
       "      <td>1987-07-25</td>\n",
       "      <td>2159175b9efe66dc301f149d3d5abf8c</td>\n",
       "      <td>1371816915</td>\n",
       "      <td>28.812398</td>\n",
       "      <td>-80.883061</td>\n",
       "      <td>0</td>\n",
       "    </tr>\n",
       "    <tr>\n",
       "      <th>4</th>\n",
       "      <td>4</td>\n",
       "      <td>2020-06-21 12:15:17</td>\n",
       "      <td>3526826139003047</td>\n",
       "      <td>fraud_Johnston-Casper</td>\n",
       "      <td>travel</td>\n",
       "      <td>3.19</td>\n",
       "      <td>Nathan</td>\n",
       "      <td>Massey</td>\n",
       "      <td>M</td>\n",
       "      <td>5783 Evan Roads Apt. 465</td>\n",
       "      <td>...</td>\n",
       "      <td>44.2529</td>\n",
       "      <td>-85.0170</td>\n",
       "      <td>1126</td>\n",
       "      <td>Furniture designer</td>\n",
       "      <td>1955-07-06</td>\n",
       "      <td>57ff021bd3f328f8738bb535c302a31b</td>\n",
       "      <td>1371816917</td>\n",
       "      <td>44.959148</td>\n",
       "      <td>-85.884734</td>\n",
       "      <td>0</td>\n",
       "    </tr>\n",
       "  </tbody>\n",
       "</table>\n",
       "<p>5 rows × 23 columns</p>\n",
       "</div>"
      ],
      "text/plain": [
       "   Unnamed: 0 trans_date_trans_time            cc_num  \\\n",
       "0           0   2020-06-21 12:14:25  2291163933867244   \n",
       "1           1   2020-06-21 12:14:33  3573030041201292   \n",
       "2           2   2020-06-21 12:14:53  3598215285024754   \n",
       "3           3   2020-06-21 12:15:15  3591919803438423   \n",
       "4           4   2020-06-21 12:15:17  3526826139003047   \n",
       "\n",
       "                               merchant        category    amt   first  \\\n",
       "0                 fraud_Kirlin and Sons   personal_care   2.86    Jeff   \n",
       "1                  fraud_Sporer-Keebler   personal_care  29.84  Joanne   \n",
       "2  fraud_Swaniawski, Nitzsche and Welch  health_fitness  41.28  Ashley   \n",
       "3                     fraud_Haley Group        misc_pos  60.05   Brian   \n",
       "4                 fraud_Johnston-Casper          travel   3.19  Nathan   \n",
       "\n",
       "       last gender                       street  ...      lat      long  \\\n",
       "0   Elliott      M            351 Darlene Green  ...  33.9659  -80.9355   \n",
       "1  Williams      F             3638 Marsh Union  ...  40.3207 -110.4360   \n",
       "2     Lopez      F         9333 Valentine Point  ...  40.6729  -73.5365   \n",
       "3  Williams      M  32941 Krystal Mill Apt. 552  ...  28.5697  -80.8191   \n",
       "4    Massey      M     5783 Evan Roads Apt. 465  ...  44.2529  -85.0170   \n",
       "\n",
       "   city_pop                     job         dob  \\\n",
       "0    333497     Mechanical engineer  1968-03-19   \n",
       "1       302  Sales professional, IT  1990-01-17   \n",
       "2     34496       Librarian, public  1970-10-21   \n",
       "3     54767            Set designer  1987-07-25   \n",
       "4      1126      Furniture designer  1955-07-06   \n",
       "\n",
       "                          trans_num   unix_time  merch_lat  merch_long  \\\n",
       "0  2da90c7d74bd46a0caf3777415b3ebd3  1371816865  33.986391  -81.200714   \n",
       "1  324cc204407e99f51b0d6ca0055005e7  1371816873  39.450498 -109.960431   \n",
       "2  c81755dbbbea9d5c77f094348a7579be  1371816893  40.495810  -74.196111   \n",
       "3  2159175b9efe66dc301f149d3d5abf8c  1371816915  28.812398  -80.883061   \n",
       "4  57ff021bd3f328f8738bb535c302a31b  1371816917  44.959148  -85.884734   \n",
       "\n",
       "   is_fraud  \n",
       "0         0  \n",
       "1         0  \n",
       "2         0  \n",
       "3         0  \n",
       "4         0  \n",
       "\n",
       "[5 rows x 23 columns]"
      ]
     },
     "execution_count": 8,
     "metadata": {},
     "output_type": "execute_result"
    }
   ],
   "source": [
    "train.head()"
   ]
  },
  {
   "cell_type": "markdown",
   "metadata": {
    "id": "KBAlHH3Rurhr"
   },
   "source": [
    "### 2. N/A Check"
   ]
  },
  {
   "cell_type": "code",
   "execution_count": 9,
   "metadata": {
    "colab": {
     "base_uri": "https://localhost:8080/"
    },
    "id": "Zt-3e6T_tuZ4",
    "outputId": "9094ca58-45fa-490b-ecea-9a3876ad79cd"
   },
   "outputs": [
    {
     "data": {
      "text/plain": [
       "Unnamed: 0               0\n",
       "trans_date_trans_time    0\n",
       "cc_num                   0\n",
       "merchant                 0\n",
       "category                 0\n",
       "amt                      0\n",
       "first                    0\n",
       "last                     0\n",
       "gender                   0\n",
       "street                   0\n",
       "city                     0\n",
       "state                    0\n",
       "zip                      0\n",
       "lat                      0\n",
       "long                     0\n",
       "city_pop                 0\n",
       "job                      0\n",
       "dob                      0\n",
       "trans_num                0\n",
       "unix_time                0\n",
       "merch_lat                0\n",
       "merch_long               0\n",
       "is_fraud                 0\n",
       "dtype: int64"
      ]
     },
     "execution_count": 9,
     "metadata": {},
     "output_type": "execute_result"
    }
   ],
   "source": [
    "train.isnull().sum()"
   ]
  },
  {
   "cell_type": "code",
   "execution_count": 10,
   "metadata": {
    "colab": {
     "base_uri": "https://localhost:8080/"
    },
    "id": "Jn4d-mAl2NvH",
    "outputId": "515fea37-3b19-495e-98db-01d7eabbbf06"
   },
   "outputs": [
    {
     "data": {
      "text/plain": [
       "Unnamed: 0               0\n",
       "trans_date_trans_time    0\n",
       "cc_num                   0\n",
       "merchant                 0\n",
       "category                 0\n",
       "amt                      0\n",
       "first                    0\n",
       "last                     0\n",
       "gender                   0\n",
       "street                   0\n",
       "city                     0\n",
       "state                    0\n",
       "zip                      0\n",
       "lat                      0\n",
       "long                     0\n",
       "city_pop                 0\n",
       "job                      0\n",
       "dob                      0\n",
       "trans_num                0\n",
       "unix_time                0\n",
       "merch_lat                0\n",
       "merch_long               0\n",
       "is_fraud                 0\n",
       "dtype: int64"
      ]
     },
     "execution_count": 10,
     "metadata": {},
     "output_type": "execute_result"
    }
   ],
   "source": [
    "test.isnull().sum()"
   ]
  },
  {
   "cell_type": "code",
   "execution_count": 11,
   "metadata": {
    "colab": {
     "base_uri": "https://localhost:8080/",
     "height": 921
    },
    "id": "gdlv2rZ7uVYY",
    "outputId": "249b08f4-236a-4f14-f5a0-4c1aff70c093"
   },
   "outputs": [
    {
     "data": {
      "text/html": [
       "<div>\n",
       "<style scoped>\n",
       "    .dataframe tbody tr th:only-of-type {\n",
       "        vertical-align: middle;\n",
       "    }\n",
       "\n",
       "    .dataframe tbody tr th {\n",
       "        vertical-align: top;\n",
       "    }\n",
       "\n",
       "    .dataframe thead th {\n",
       "        text-align: right;\n",
       "    }\n",
       "</style>\n",
       "<table border=\"1\" class=\"dataframe\">\n",
       "  <thead>\n",
       "    <tr style=\"text-align: right;\">\n",
       "      <th></th>\n",
       "      <th>Unnamed: 0</th>\n",
       "      <th>trans_date_trans_time</th>\n",
       "      <th>cc_num</th>\n",
       "      <th>merchant</th>\n",
       "      <th>category</th>\n",
       "      <th>amt</th>\n",
       "      <th>first</th>\n",
       "      <th>last</th>\n",
       "      <th>gender</th>\n",
       "      <th>street</th>\n",
       "      <th>...</th>\n",
       "      <th>lat</th>\n",
       "      <th>long</th>\n",
       "      <th>city_pop</th>\n",
       "      <th>job</th>\n",
       "      <th>dob</th>\n",
       "      <th>trans_num</th>\n",
       "      <th>unix_time</th>\n",
       "      <th>merch_lat</th>\n",
       "      <th>merch_long</th>\n",
       "      <th>is_fraud</th>\n",
       "    </tr>\n",
       "  </thead>\n",
       "  <tbody>\n",
       "    <tr>\n",
       "      <th>0</th>\n",
       "      <td>0</td>\n",
       "      <td>2020-06-21 12:14:25</td>\n",
       "      <td>2291163933867244</td>\n",
       "      <td>fraud_Kirlin and Sons</td>\n",
       "      <td>personal_care</td>\n",
       "      <td>2.86</td>\n",
       "      <td>Jeff</td>\n",
       "      <td>Elliott</td>\n",
       "      <td>M</td>\n",
       "      <td>351 Darlene Green</td>\n",
       "      <td>...</td>\n",
       "      <td>33.9659</td>\n",
       "      <td>-80.9355</td>\n",
       "      <td>333497</td>\n",
       "      <td>Mechanical engineer</td>\n",
       "      <td>1968-03-19</td>\n",
       "      <td>2da90c7d74bd46a0caf3777415b3ebd3</td>\n",
       "      <td>1371816865</td>\n",
       "      <td>33.986391</td>\n",
       "      <td>-81.200714</td>\n",
       "      <td>0</td>\n",
       "    </tr>\n",
       "    <tr>\n",
       "      <th>1</th>\n",
       "      <td>1</td>\n",
       "      <td>2020-06-21 12:14:33</td>\n",
       "      <td>3573030041201292</td>\n",
       "      <td>fraud_Sporer-Keebler</td>\n",
       "      <td>personal_care</td>\n",
       "      <td>29.84</td>\n",
       "      <td>Joanne</td>\n",
       "      <td>Williams</td>\n",
       "      <td>F</td>\n",
       "      <td>3638 Marsh Union</td>\n",
       "      <td>...</td>\n",
       "      <td>40.3207</td>\n",
       "      <td>-110.4360</td>\n",
       "      <td>302</td>\n",
       "      <td>Sales professional, IT</td>\n",
       "      <td>1990-01-17</td>\n",
       "      <td>324cc204407e99f51b0d6ca0055005e7</td>\n",
       "      <td>1371816873</td>\n",
       "      <td>39.450498</td>\n",
       "      <td>-109.960431</td>\n",
       "      <td>0</td>\n",
       "    </tr>\n",
       "    <tr>\n",
       "      <th>2</th>\n",
       "      <td>2</td>\n",
       "      <td>2020-06-21 12:14:53</td>\n",
       "      <td>3598215285024754</td>\n",
       "      <td>fraud_Swaniawski, Nitzsche and Welch</td>\n",
       "      <td>health_fitness</td>\n",
       "      <td>41.28</td>\n",
       "      <td>Ashley</td>\n",
       "      <td>Lopez</td>\n",
       "      <td>F</td>\n",
       "      <td>9333 Valentine Point</td>\n",
       "      <td>...</td>\n",
       "      <td>40.6729</td>\n",
       "      <td>-73.5365</td>\n",
       "      <td>34496</td>\n",
       "      <td>Librarian, public</td>\n",
       "      <td>1970-10-21</td>\n",
       "      <td>c81755dbbbea9d5c77f094348a7579be</td>\n",
       "      <td>1371816893</td>\n",
       "      <td>40.495810</td>\n",
       "      <td>-74.196111</td>\n",
       "      <td>0</td>\n",
       "    </tr>\n",
       "    <tr>\n",
       "      <th>3</th>\n",
       "      <td>3</td>\n",
       "      <td>2020-06-21 12:15:15</td>\n",
       "      <td>3591919803438423</td>\n",
       "      <td>fraud_Haley Group</td>\n",
       "      <td>misc_pos</td>\n",
       "      <td>60.05</td>\n",
       "      <td>Brian</td>\n",
       "      <td>Williams</td>\n",
       "      <td>M</td>\n",
       "      <td>32941 Krystal Mill Apt. 552</td>\n",
       "      <td>...</td>\n",
       "      <td>28.5697</td>\n",
       "      <td>-80.8191</td>\n",
       "      <td>54767</td>\n",
       "      <td>Set designer</td>\n",
       "      <td>1987-07-25</td>\n",
       "      <td>2159175b9efe66dc301f149d3d5abf8c</td>\n",
       "      <td>1371816915</td>\n",
       "      <td>28.812398</td>\n",
       "      <td>-80.883061</td>\n",
       "      <td>0</td>\n",
       "    </tr>\n",
       "    <tr>\n",
       "      <th>4</th>\n",
       "      <td>4</td>\n",
       "      <td>2020-06-21 12:15:17</td>\n",
       "      <td>3526826139003047</td>\n",
       "      <td>fraud_Johnston-Casper</td>\n",
       "      <td>travel</td>\n",
       "      <td>3.19</td>\n",
       "      <td>Nathan</td>\n",
       "      <td>Massey</td>\n",
       "      <td>M</td>\n",
       "      <td>5783 Evan Roads Apt. 465</td>\n",
       "      <td>...</td>\n",
       "      <td>44.2529</td>\n",
       "      <td>-85.0170</td>\n",
       "      <td>1126</td>\n",
       "      <td>Furniture designer</td>\n",
       "      <td>1955-07-06</td>\n",
       "      <td>57ff021bd3f328f8738bb535c302a31b</td>\n",
       "      <td>1371816917</td>\n",
       "      <td>44.959148</td>\n",
       "      <td>-85.884734</td>\n",
       "      <td>0</td>\n",
       "    </tr>\n",
       "    <tr>\n",
       "      <th>...</th>\n",
       "      <td>...</td>\n",
       "      <td>...</td>\n",
       "      <td>...</td>\n",
       "      <td>...</td>\n",
       "      <td>...</td>\n",
       "      <td>...</td>\n",
       "      <td>...</td>\n",
       "      <td>...</td>\n",
       "      <td>...</td>\n",
       "      <td>...</td>\n",
       "      <td>...</td>\n",
       "      <td>...</td>\n",
       "      <td>...</td>\n",
       "      <td>...</td>\n",
       "      <td>...</td>\n",
       "      <td>...</td>\n",
       "      <td>...</td>\n",
       "      <td>...</td>\n",
       "      <td>...</td>\n",
       "      <td>...</td>\n",
       "      <td>...</td>\n",
       "    </tr>\n",
       "    <tr>\n",
       "      <th>555714</th>\n",
       "      <td>555714</td>\n",
       "      <td>2020-12-31 23:59:07</td>\n",
       "      <td>30560609640617</td>\n",
       "      <td>fraud_Reilly and Sons</td>\n",
       "      <td>health_fitness</td>\n",
       "      <td>43.77</td>\n",
       "      <td>Michael</td>\n",
       "      <td>Olson</td>\n",
       "      <td>M</td>\n",
       "      <td>558 Michael Estates</td>\n",
       "      <td>...</td>\n",
       "      <td>40.4931</td>\n",
       "      <td>-91.8912</td>\n",
       "      <td>519</td>\n",
       "      <td>Town planner</td>\n",
       "      <td>1966-02-13</td>\n",
       "      <td>9b1f753c79894c9f4b71f04581835ada</td>\n",
       "      <td>1388534347</td>\n",
       "      <td>39.946837</td>\n",
       "      <td>-91.333331</td>\n",
       "      <td>0</td>\n",
       "    </tr>\n",
       "    <tr>\n",
       "      <th>555715</th>\n",
       "      <td>555715</td>\n",
       "      <td>2020-12-31 23:59:09</td>\n",
       "      <td>3556613125071656</td>\n",
       "      <td>fraud_Hoppe-Parisian</td>\n",
       "      <td>kids_pets</td>\n",
       "      <td>111.84</td>\n",
       "      <td>Jose</td>\n",
       "      <td>Vasquez</td>\n",
       "      <td>M</td>\n",
       "      <td>572 Davis Mountains</td>\n",
       "      <td>...</td>\n",
       "      <td>29.0393</td>\n",
       "      <td>-95.4401</td>\n",
       "      <td>28739</td>\n",
       "      <td>Futures trader</td>\n",
       "      <td>1999-12-27</td>\n",
       "      <td>2090647dac2c89a1d86c514c427f5b91</td>\n",
       "      <td>1388534349</td>\n",
       "      <td>29.661049</td>\n",
       "      <td>-96.186633</td>\n",
       "      <td>0</td>\n",
       "    </tr>\n",
       "    <tr>\n",
       "      <th>555716</th>\n",
       "      <td>555716</td>\n",
       "      <td>2020-12-31 23:59:15</td>\n",
       "      <td>6011724471098086</td>\n",
       "      <td>fraud_Rau-Robel</td>\n",
       "      <td>kids_pets</td>\n",
       "      <td>86.88</td>\n",
       "      <td>Ann</td>\n",
       "      <td>Lawson</td>\n",
       "      <td>F</td>\n",
       "      <td>144 Evans Islands Apt. 683</td>\n",
       "      <td>...</td>\n",
       "      <td>46.1966</td>\n",
       "      <td>-118.9017</td>\n",
       "      <td>3684</td>\n",
       "      <td>Musician</td>\n",
       "      <td>1981-11-29</td>\n",
       "      <td>6c5b7c8add471975aa0fec023b2e8408</td>\n",
       "      <td>1388534355</td>\n",
       "      <td>46.658340</td>\n",
       "      <td>-119.715054</td>\n",
       "      <td>0</td>\n",
       "    </tr>\n",
       "    <tr>\n",
       "      <th>555717</th>\n",
       "      <td>555717</td>\n",
       "      <td>2020-12-31 23:59:24</td>\n",
       "      <td>4079773899158</td>\n",
       "      <td>fraud_Breitenberg LLC</td>\n",
       "      <td>travel</td>\n",
       "      <td>7.99</td>\n",
       "      <td>Eric</td>\n",
       "      <td>Preston</td>\n",
       "      <td>M</td>\n",
       "      <td>7020 Doyle Stream Apt. 951</td>\n",
       "      <td>...</td>\n",
       "      <td>44.6255</td>\n",
       "      <td>-116.4493</td>\n",
       "      <td>129</td>\n",
       "      <td>Cartographer</td>\n",
       "      <td>1965-12-15</td>\n",
       "      <td>14392d723bb7737606b2700ac791b7aa</td>\n",
       "      <td>1388534364</td>\n",
       "      <td>44.470525</td>\n",
       "      <td>-117.080888</td>\n",
       "      <td>0</td>\n",
       "    </tr>\n",
       "    <tr>\n",
       "      <th>555718</th>\n",
       "      <td>555718</td>\n",
       "      <td>2020-12-31 23:59:34</td>\n",
       "      <td>4170689372027579</td>\n",
       "      <td>fraud_Dare-Marvin</td>\n",
       "      <td>entertainment</td>\n",
       "      <td>38.13</td>\n",
       "      <td>Samuel</td>\n",
       "      <td>Frey</td>\n",
       "      <td>M</td>\n",
       "      <td>830 Myers Plaza Apt. 384</td>\n",
       "      <td>...</td>\n",
       "      <td>35.6665</td>\n",
       "      <td>-97.4798</td>\n",
       "      <td>116001</td>\n",
       "      <td>Media buyer</td>\n",
       "      <td>1993-05-10</td>\n",
       "      <td>1765bb45b3aa3224b4cdcb6e7a96cee3</td>\n",
       "      <td>1388534374</td>\n",
       "      <td>36.210097</td>\n",
       "      <td>-97.036372</td>\n",
       "      <td>0</td>\n",
       "    </tr>\n",
       "  </tbody>\n",
       "</table>\n",
       "<p>555719 rows × 23 columns</p>\n",
       "</div>"
      ],
      "text/plain": [
       "        Unnamed: 0 trans_date_trans_time            cc_num  \\\n",
       "0                0   2020-06-21 12:14:25  2291163933867244   \n",
       "1                1   2020-06-21 12:14:33  3573030041201292   \n",
       "2                2   2020-06-21 12:14:53  3598215285024754   \n",
       "3                3   2020-06-21 12:15:15  3591919803438423   \n",
       "4                4   2020-06-21 12:15:17  3526826139003047   \n",
       "...            ...                   ...               ...   \n",
       "555714      555714   2020-12-31 23:59:07    30560609640617   \n",
       "555715      555715   2020-12-31 23:59:09  3556613125071656   \n",
       "555716      555716   2020-12-31 23:59:15  6011724471098086   \n",
       "555717      555717   2020-12-31 23:59:24     4079773899158   \n",
       "555718      555718   2020-12-31 23:59:34  4170689372027579   \n",
       "\n",
       "                                    merchant        category     amt    first  \\\n",
       "0                      fraud_Kirlin and Sons   personal_care    2.86     Jeff   \n",
       "1                       fraud_Sporer-Keebler   personal_care   29.84   Joanne   \n",
       "2       fraud_Swaniawski, Nitzsche and Welch  health_fitness   41.28   Ashley   \n",
       "3                          fraud_Haley Group        misc_pos   60.05    Brian   \n",
       "4                      fraud_Johnston-Casper          travel    3.19   Nathan   \n",
       "...                                      ...             ...     ...      ...   \n",
       "555714                 fraud_Reilly and Sons  health_fitness   43.77  Michael   \n",
       "555715                  fraud_Hoppe-Parisian       kids_pets  111.84     Jose   \n",
       "555716                       fraud_Rau-Robel       kids_pets   86.88      Ann   \n",
       "555717                 fraud_Breitenberg LLC          travel    7.99     Eric   \n",
       "555718                     fraud_Dare-Marvin   entertainment   38.13   Samuel   \n",
       "\n",
       "            last gender                       street  ...      lat      long  \\\n",
       "0        Elliott      M            351 Darlene Green  ...  33.9659  -80.9355   \n",
       "1       Williams      F             3638 Marsh Union  ...  40.3207 -110.4360   \n",
       "2          Lopez      F         9333 Valentine Point  ...  40.6729  -73.5365   \n",
       "3       Williams      M  32941 Krystal Mill Apt. 552  ...  28.5697  -80.8191   \n",
       "4         Massey      M     5783 Evan Roads Apt. 465  ...  44.2529  -85.0170   \n",
       "...          ...    ...                          ...  ...      ...       ...   \n",
       "555714     Olson      M          558 Michael Estates  ...  40.4931  -91.8912   \n",
       "555715   Vasquez      M          572 Davis Mountains  ...  29.0393  -95.4401   \n",
       "555716    Lawson      F   144 Evans Islands Apt. 683  ...  46.1966 -118.9017   \n",
       "555717   Preston      M   7020 Doyle Stream Apt. 951  ...  44.6255 -116.4493   \n",
       "555718      Frey      M     830 Myers Plaza Apt. 384  ...  35.6665  -97.4798   \n",
       "\n",
       "        city_pop                     job         dob  \\\n",
       "0         333497     Mechanical engineer  1968-03-19   \n",
       "1            302  Sales professional, IT  1990-01-17   \n",
       "2          34496       Librarian, public  1970-10-21   \n",
       "3          54767            Set designer  1987-07-25   \n",
       "4           1126      Furniture designer  1955-07-06   \n",
       "...          ...                     ...         ...   \n",
       "555714       519            Town planner  1966-02-13   \n",
       "555715     28739          Futures trader  1999-12-27   \n",
       "555716      3684                Musician  1981-11-29   \n",
       "555717       129            Cartographer  1965-12-15   \n",
       "555718    116001             Media buyer  1993-05-10   \n",
       "\n",
       "                               trans_num   unix_time  merch_lat  merch_long  \\\n",
       "0       2da90c7d74bd46a0caf3777415b3ebd3  1371816865  33.986391  -81.200714   \n",
       "1       324cc204407e99f51b0d6ca0055005e7  1371816873  39.450498 -109.960431   \n",
       "2       c81755dbbbea9d5c77f094348a7579be  1371816893  40.495810  -74.196111   \n",
       "3       2159175b9efe66dc301f149d3d5abf8c  1371816915  28.812398  -80.883061   \n",
       "4       57ff021bd3f328f8738bb535c302a31b  1371816917  44.959148  -85.884734   \n",
       "...                                  ...         ...        ...         ...   \n",
       "555714  9b1f753c79894c9f4b71f04581835ada  1388534347  39.946837  -91.333331   \n",
       "555715  2090647dac2c89a1d86c514c427f5b91  1388534349  29.661049  -96.186633   \n",
       "555716  6c5b7c8add471975aa0fec023b2e8408  1388534355  46.658340 -119.715054   \n",
       "555717  14392d723bb7737606b2700ac791b7aa  1388534364  44.470525 -117.080888   \n",
       "555718  1765bb45b3aa3224b4cdcb6e7a96cee3  1388534374  36.210097  -97.036372   \n",
       "\n",
       "        is_fraud  \n",
       "0              0  \n",
       "1              0  \n",
       "2              0  \n",
       "3              0  \n",
       "4              0  \n",
       "...          ...  \n",
       "555714         0  \n",
       "555715         0  \n",
       "555716         0  \n",
       "555717         0  \n",
       "555718         0  \n",
       "\n",
       "[555719 rows x 23 columns]"
      ]
     },
     "execution_count": 11,
     "metadata": {},
     "output_type": "execute_result"
    }
   ],
   "source": [
    "train.dropna()"
   ]
  },
  {
   "cell_type": "markdown",
   "metadata": {},
   "source": [
    "### 3. Train Test Data Checks"
   ]
  },
  {
   "cell_type": "code",
   "execution_count": 12,
   "metadata": {
    "colab": {
     "base_uri": "https://localhost:8080/"
    },
    "id": "jmfCL-5NumoY",
    "outputId": "46f6520e-2b56-4f78-9bb6-8544be64a353"
   },
   "outputs": [
    {
     "name": "stdout",
     "output_type": "stream",
     "text": [
      "<class 'pandas.core.frame.DataFrame'>\n",
      "RangeIndex: 555719 entries, 0 to 555718\n",
      "Data columns (total 23 columns):\n",
      " #   Column                 Non-Null Count   Dtype  \n",
      "---  ------                 --------------   -----  \n",
      " 0   Unnamed: 0             555719 non-null  int64  \n",
      " 1   trans_date_trans_time  555719 non-null  object \n",
      " 2   cc_num                 555719 non-null  int64  \n",
      " 3   merchant               555719 non-null  object \n",
      " 4   category               555719 non-null  object \n",
      " 5   amt                    555719 non-null  float64\n",
      " 6   first                  555719 non-null  object \n",
      " 7   last                   555719 non-null  object \n",
      " 8   gender                 555719 non-null  object \n",
      " 9   street                 555719 non-null  object \n",
      " 10  city                   555719 non-null  object \n",
      " 11  state                  555719 non-null  object \n",
      " 12  zip                    555719 non-null  int64  \n",
      " 13  lat                    555719 non-null  float64\n",
      " 14  long                   555719 non-null  float64\n",
      " 15  city_pop               555719 non-null  int64  \n",
      " 16  job                    555719 non-null  object \n",
      " 17  dob                    555719 non-null  object \n",
      " 18  trans_num              555719 non-null  object \n",
      " 19  unix_time              555719 non-null  int64  \n",
      " 20  merch_lat              555719 non-null  float64\n",
      " 21  merch_long             555719 non-null  float64\n",
      " 22  is_fraud               555719 non-null  int64  \n",
      "dtypes: float64(5), int64(6), object(12)\n",
      "memory usage: 97.5+ MB\n"
     ]
    }
   ],
   "source": [
    "train.info()"
   ]
  },
  {
   "cell_type": "code",
   "execution_count": 13,
   "metadata": {
    "colab": {
     "base_uri": "https://localhost:8080/"
    },
    "id": "PM60N7-A2Wcu",
    "outputId": "85d2e8e2-7bbe-4c0e-a32e-cfa1a7a07780"
   },
   "outputs": [
    {
     "data": {
      "text/plain": [
       "is_fraud\n",
       "0    553574\n",
       "1      2145\n",
       "Name: is_fraud, dtype: int64"
      ]
     },
     "execution_count": 13,
     "metadata": {},
     "output_type": "execute_result"
    }
   ],
   "source": [
    "#check for balance\n",
    "train.groupby('is_fraud')['is_fraud'].count()\n",
    "#the data is very imbalance"
   ]
  },
  {
   "cell_type": "code",
   "execution_count": 14,
   "metadata": {
    "colab": {
     "base_uri": "https://localhost:8080/"
    },
    "id": "tKC7UN5Swg7n",
    "outputId": "05ef91c3-6e88-4ec8-e83e-4948c697b206"
   },
   "outputs": [
    {
     "data": {
      "text/plain": [
       "(555719, 27)"
      ]
     },
     "execution_count": 14,
     "metadata": {},
     "output_type": "execute_result"
    }
   ],
   "source": [
    "train['trans_date_trans_time']=pd.to_datetime(train['trans_date_trans_time'])\n",
    "\n",
    "train['trans_year'] = train['trans_date_trans_time'].dt.year\n",
    "train['trans_month'] = train['trans_date_trans_time'].dt.month\n",
    "train['trans_day'] = train['trans_date_trans_time'].dt.day\n",
    "train['trans_hour'] = train['trans_date_trans_time'].dt.hour\n",
    "train.shape"
   ]
  },
  {
   "cell_type": "code",
   "execution_count": 15,
   "metadata": {
    "colab": {
     "base_uri": "https://localhost:8080/"
    },
    "id": "ofJdFOVg2hDy",
    "outputId": "5c4b71f0-3b60-4b63-a474-25c7ae427f6e"
   },
   "outputs": [
    {
     "data": {
      "text/plain": [
       "(1296675, 27)"
      ]
     },
     "execution_count": 15,
     "metadata": {},
     "output_type": "execute_result"
    }
   ],
   "source": [
    "test['trans_date_trans_time']=pd.to_datetime(test['trans_date_trans_time'])\n",
    "\n",
    "test['trans_year'] = test['trans_date_trans_time'].dt.year\n",
    "test['trans_month'] = test['trans_date_trans_time'].dt.month\n",
    "test['trans_day'] = test['trans_date_trans_time'].dt.day\n",
    "test['trans_hour'] = test['trans_date_trans_time'].dt.hour\n",
    "test.shape"
   ]
  },
  {
   "cell_type": "markdown",
   "metadata": {
    "id": "nyc4SnUmw5l4"
   },
   "source": [
    "### 4. Removing the Unnamed Column"
   ]
  },
  {
   "cell_type": "code",
   "execution_count": 16,
   "metadata": {
    "id": "n63QUI32w-Sn"
   },
   "outputs": [],
   "source": [
    "train.drop(\"Unnamed: 0\",axis=1,inplace=True)"
   ]
  },
  {
   "cell_type": "code",
   "execution_count": 17,
   "metadata": {
    "id": "2fLgMehu2mj4"
   },
   "outputs": [],
   "source": [
    "test.drop(\"Unnamed: 0\",axis=1,inplace=True)"
   ]
  },
  {
   "cell_type": "code",
   "execution_count": 18,
   "metadata": {
    "colab": {
     "base_uri": "https://localhost:8080/",
     "height": 577
    },
    "id": "UD8QtIaQxEbU",
    "outputId": "735c4611-f0df-4ad8-cc62-8aad2d11043d"
   },
   "outputs": [
    {
     "data": {
      "text/html": [
       "<div>\n",
       "<style scoped>\n",
       "    .dataframe tbody tr th:only-of-type {\n",
       "        vertical-align: middle;\n",
       "    }\n",
       "\n",
       "    .dataframe tbody tr th {\n",
       "        vertical-align: top;\n",
       "    }\n",
       "\n",
       "    .dataframe thead th {\n",
       "        text-align: right;\n",
       "    }\n",
       "</style>\n",
       "<table border=\"1\" class=\"dataframe\">\n",
       "  <thead>\n",
       "    <tr style=\"text-align: right;\">\n",
       "      <th></th>\n",
       "      <th>trans_date_trans_time</th>\n",
       "      <th>cc_num</th>\n",
       "      <th>merchant</th>\n",
       "      <th>category</th>\n",
       "      <th>amt</th>\n",
       "      <th>first</th>\n",
       "      <th>last</th>\n",
       "      <th>gender</th>\n",
       "      <th>street</th>\n",
       "      <th>city</th>\n",
       "      <th>...</th>\n",
       "      <th>dob</th>\n",
       "      <th>trans_num</th>\n",
       "      <th>unix_time</th>\n",
       "      <th>merch_lat</th>\n",
       "      <th>merch_long</th>\n",
       "      <th>is_fraud</th>\n",
       "      <th>trans_year</th>\n",
       "      <th>trans_month</th>\n",
       "      <th>trans_day</th>\n",
       "      <th>trans_hour</th>\n",
       "    </tr>\n",
       "  </thead>\n",
       "  <tbody>\n",
       "    <tr>\n",
       "      <th>0</th>\n",
       "      <td>2020-06-21 12:14:25</td>\n",
       "      <td>2291163933867244</td>\n",
       "      <td>fraud_Kirlin and Sons</td>\n",
       "      <td>personal_care</td>\n",
       "      <td>2.86</td>\n",
       "      <td>Jeff</td>\n",
       "      <td>Elliott</td>\n",
       "      <td>M</td>\n",
       "      <td>351 Darlene Green</td>\n",
       "      <td>Columbia</td>\n",
       "      <td>...</td>\n",
       "      <td>1968-03-19</td>\n",
       "      <td>2da90c7d74bd46a0caf3777415b3ebd3</td>\n",
       "      <td>1371816865</td>\n",
       "      <td>33.986391</td>\n",
       "      <td>-81.200714</td>\n",
       "      <td>0</td>\n",
       "      <td>2020</td>\n",
       "      <td>6</td>\n",
       "      <td>21</td>\n",
       "      <td>12</td>\n",
       "    </tr>\n",
       "    <tr>\n",
       "      <th>1</th>\n",
       "      <td>2020-06-21 12:14:33</td>\n",
       "      <td>3573030041201292</td>\n",
       "      <td>fraud_Sporer-Keebler</td>\n",
       "      <td>personal_care</td>\n",
       "      <td>29.84</td>\n",
       "      <td>Joanne</td>\n",
       "      <td>Williams</td>\n",
       "      <td>F</td>\n",
       "      <td>3638 Marsh Union</td>\n",
       "      <td>Altonah</td>\n",
       "      <td>...</td>\n",
       "      <td>1990-01-17</td>\n",
       "      <td>324cc204407e99f51b0d6ca0055005e7</td>\n",
       "      <td>1371816873</td>\n",
       "      <td>39.450498</td>\n",
       "      <td>-109.960431</td>\n",
       "      <td>0</td>\n",
       "      <td>2020</td>\n",
       "      <td>6</td>\n",
       "      <td>21</td>\n",
       "      <td>12</td>\n",
       "    </tr>\n",
       "    <tr>\n",
       "      <th>2</th>\n",
       "      <td>2020-06-21 12:14:53</td>\n",
       "      <td>3598215285024754</td>\n",
       "      <td>fraud_Swaniawski, Nitzsche and Welch</td>\n",
       "      <td>health_fitness</td>\n",
       "      <td>41.28</td>\n",
       "      <td>Ashley</td>\n",
       "      <td>Lopez</td>\n",
       "      <td>F</td>\n",
       "      <td>9333 Valentine Point</td>\n",
       "      <td>Bellmore</td>\n",
       "      <td>...</td>\n",
       "      <td>1970-10-21</td>\n",
       "      <td>c81755dbbbea9d5c77f094348a7579be</td>\n",
       "      <td>1371816893</td>\n",
       "      <td>40.495810</td>\n",
       "      <td>-74.196111</td>\n",
       "      <td>0</td>\n",
       "      <td>2020</td>\n",
       "      <td>6</td>\n",
       "      <td>21</td>\n",
       "      <td>12</td>\n",
       "    </tr>\n",
       "    <tr>\n",
       "      <th>3</th>\n",
       "      <td>2020-06-21 12:15:15</td>\n",
       "      <td>3591919803438423</td>\n",
       "      <td>fraud_Haley Group</td>\n",
       "      <td>misc_pos</td>\n",
       "      <td>60.05</td>\n",
       "      <td>Brian</td>\n",
       "      <td>Williams</td>\n",
       "      <td>M</td>\n",
       "      <td>32941 Krystal Mill Apt. 552</td>\n",
       "      <td>Titusville</td>\n",
       "      <td>...</td>\n",
       "      <td>1987-07-25</td>\n",
       "      <td>2159175b9efe66dc301f149d3d5abf8c</td>\n",
       "      <td>1371816915</td>\n",
       "      <td>28.812398</td>\n",
       "      <td>-80.883061</td>\n",
       "      <td>0</td>\n",
       "      <td>2020</td>\n",
       "      <td>6</td>\n",
       "      <td>21</td>\n",
       "      <td>12</td>\n",
       "    </tr>\n",
       "    <tr>\n",
       "      <th>4</th>\n",
       "      <td>2020-06-21 12:15:17</td>\n",
       "      <td>3526826139003047</td>\n",
       "      <td>fraud_Johnston-Casper</td>\n",
       "      <td>travel</td>\n",
       "      <td>3.19</td>\n",
       "      <td>Nathan</td>\n",
       "      <td>Massey</td>\n",
       "      <td>M</td>\n",
       "      <td>5783 Evan Roads Apt. 465</td>\n",
       "      <td>Falmouth</td>\n",
       "      <td>...</td>\n",
       "      <td>1955-07-06</td>\n",
       "      <td>57ff021bd3f328f8738bb535c302a31b</td>\n",
       "      <td>1371816917</td>\n",
       "      <td>44.959148</td>\n",
       "      <td>-85.884734</td>\n",
       "      <td>0</td>\n",
       "      <td>2020</td>\n",
       "      <td>6</td>\n",
       "      <td>21</td>\n",
       "      <td>12</td>\n",
       "    </tr>\n",
       "  </tbody>\n",
       "</table>\n",
       "<p>5 rows × 26 columns</p>\n",
       "</div>"
      ],
      "text/plain": [
       "  trans_date_trans_time            cc_num  \\\n",
       "0   2020-06-21 12:14:25  2291163933867244   \n",
       "1   2020-06-21 12:14:33  3573030041201292   \n",
       "2   2020-06-21 12:14:53  3598215285024754   \n",
       "3   2020-06-21 12:15:15  3591919803438423   \n",
       "4   2020-06-21 12:15:17  3526826139003047   \n",
       "\n",
       "                               merchant        category    amt   first  \\\n",
       "0                 fraud_Kirlin and Sons   personal_care   2.86    Jeff   \n",
       "1                  fraud_Sporer-Keebler   personal_care  29.84  Joanne   \n",
       "2  fraud_Swaniawski, Nitzsche and Welch  health_fitness  41.28  Ashley   \n",
       "3                     fraud_Haley Group        misc_pos  60.05   Brian   \n",
       "4                 fraud_Johnston-Casper          travel   3.19  Nathan   \n",
       "\n",
       "       last gender                       street        city  ...         dob  \\\n",
       "0   Elliott      M            351 Darlene Green    Columbia  ...  1968-03-19   \n",
       "1  Williams      F             3638 Marsh Union     Altonah  ...  1990-01-17   \n",
       "2     Lopez      F         9333 Valentine Point    Bellmore  ...  1970-10-21   \n",
       "3  Williams      M  32941 Krystal Mill Apt. 552  Titusville  ...  1987-07-25   \n",
       "4    Massey      M     5783 Evan Roads Apt. 465    Falmouth  ...  1955-07-06   \n",
       "\n",
       "                          trans_num   unix_time  merch_lat  merch_long  \\\n",
       "0  2da90c7d74bd46a0caf3777415b3ebd3  1371816865  33.986391  -81.200714   \n",
       "1  324cc204407e99f51b0d6ca0055005e7  1371816873  39.450498 -109.960431   \n",
       "2  c81755dbbbea9d5c77f094348a7579be  1371816893  40.495810  -74.196111   \n",
       "3  2159175b9efe66dc301f149d3d5abf8c  1371816915  28.812398  -80.883061   \n",
       "4  57ff021bd3f328f8738bb535c302a31b  1371816917  44.959148  -85.884734   \n",
       "\n",
       "  is_fraud trans_year trans_month  trans_day  trans_hour  \n",
       "0        0       2020           6         21          12  \n",
       "1        0       2020           6         21          12  \n",
       "2        0       2020           6         21          12  \n",
       "3        0       2020           6         21          12  \n",
       "4        0       2020           6         21          12  \n",
       "\n",
       "[5 rows x 26 columns]"
      ]
     },
     "execution_count": 18,
     "metadata": {},
     "output_type": "execute_result"
    }
   ],
   "source": [
    "train.head()"
   ]
  },
  {
   "cell_type": "markdown",
   "metadata": {
    "id": "7aY_AqZ0xN1L"
   },
   "source": [
    "### 5. Categorical data transform"
   ]
  },
  {
   "cell_type": "code",
   "execution_count": 19,
   "metadata": {
    "colab": {
     "base_uri": "https://localhost:8080/"
    },
    "id": "bFIOY8GvxHIv",
    "outputId": "9224dc0f-03b2-4f96-b4a4-35f436b8de09"
   },
   "outputs": [
    {
     "name": "stdout",
     "output_type": "stream",
     "text": [
      "<class 'pandas.core.frame.DataFrame'>\n",
      "RangeIndex: 555719 entries, 0 to 555718\n",
      "Data columns (total 26 columns):\n",
      " #   Column                 Non-Null Count   Dtype         \n",
      "---  ------                 --------------   -----         \n",
      " 0   trans_date_trans_time  555719 non-null  datetime64[ns]\n",
      " 1   cc_num                 555719 non-null  int64         \n",
      " 2   merchant               555719 non-null  object        \n",
      " 3   category               555719 non-null  object        \n",
      " 4   amt                    555719 non-null  float64       \n",
      " 5   first                  555719 non-null  object        \n",
      " 6   last                   555719 non-null  object        \n",
      " 7   gender                 555719 non-null  object        \n",
      " 8   street                 555719 non-null  object        \n",
      " 9   city                   555719 non-null  object        \n",
      " 10  state                  555719 non-null  object        \n",
      " 11  zip                    555719 non-null  int64         \n",
      " 12  lat                    555719 non-null  float64       \n",
      " 13  long                   555719 non-null  float64       \n",
      " 14  city_pop               555719 non-null  int64         \n",
      " 15  job                    555719 non-null  object        \n",
      " 16  dob                    555719 non-null  object        \n",
      " 17  trans_num              555719 non-null  object        \n",
      " 18  unix_time              555719 non-null  int64         \n",
      " 19  merch_lat              555719 non-null  float64       \n",
      " 20  merch_long             555719 non-null  float64       \n",
      " 21  is_fraud               555719 non-null  int64         \n",
      " 22  trans_year             555719 non-null  int64         \n",
      " 23  trans_month            555719 non-null  int64         \n",
      " 24  trans_day              555719 non-null  int64         \n",
      " 25  trans_hour             555719 non-null  int64         \n",
      "dtypes: datetime64[ns](1), float64(5), int64(9), object(11)\n",
      "memory usage: 110.2+ MB\n"
     ]
    }
   ],
   "source": [
    "train.info()"
   ]
  },
  {
   "cell_type": "code",
   "execution_count": 20,
   "metadata": {
    "colab": {
     "base_uri": "https://localhost:8080/"
    },
    "id": "fbMW8EJKxqYQ",
    "outputId": "00b83321-4eae-47c9-d324-601d6116058f"
   },
   "outputs": [
    {
     "data": {
      "text/plain": [
       "array(['fraud_Kirlin and Sons', 'fraud_Sporer-Keebler',\n",
       "       'fraud_Swaniawski, Nitzsche and Welch', 'fraud_Haley Group',\n",
       "       'fraud_Johnston-Casper', 'fraud_Daugherty LLC',\n",
       "       'fraud_Romaguera Ltd', 'fraud_Reichel LLC',\n",
       "       'fraud_Goyette, Howell and Collier', 'fraud_Kilback Group',\n",
       "       'fraud_Feil, Hilpert and Koss', 'fraud_Gottlieb Group',\n",
       "       'fraud_Connelly-Carter', 'fraud_Bechtelar-Rippin',\n",
       "       'fraud_Lubowitz-Walter', 'fraud_Welch, Rath and Koepp',\n",
       "       'fraud_Hickle Group', 'fraud_Lang, Towne and Schuppe',\n",
       "       'fraud_Morissette LLC', 'fraud_Prosacco LLC',\n",
       "       'fraud_Corwin-Romaguera', 'fraud_Tillman LLC',\n",
       "       'fraud_Veum-Koelpin', 'fraud_Watsica, Haag and Considine',\n",
       "       'fraud_Leannon-Ward', 'fraud_Hintz, Bauch and Smith',\n",
       "       'fraud_Labadie LLC', 'fraud_Eichmann, Hayes and Treutel',\n",
       "       'fraud_Leffler-Goldner', 'fraud_Kautzer and Sons',\n",
       "       'fraud_Ernser-Feest', 'fraud_Zemlak, Tillman and Cremin',\n",
       "       'fraud_Nienow PLC', 'fraud_Lynch-Wisozk', 'fraud_Schiller Ltd',\n",
       "       'fraud_Hoppe-Parisian', 'fraud_Brown-Greenholt',\n",
       "       'fraud_Reilly LLC', 'fraud_Moore, Williamson and Emmerich',\n",
       "       'fraud_Rau-Robel', 'fraud_Fadel, Mertz and Rippin',\n",
       "       'fraud_Crona and Sons', 'fraud_Bahringer, Bergnaum and Quitzon',\n",
       "       'fraud_Koss, Hansen and Lueilwitz',\n",
       "       'fraud_Yost, Schamberger and Windler',\n",
       "       'fraud_Armstrong, Walter and Gottlieb', 'fraud_Friesen Ltd',\n",
       "       'fraud_Champlin and Sons', 'fraud_Bins-Tillman',\n",
       "       'fraud_Douglas-White', 'fraud_Hermiston, Pacocha and Smith',\n",
       "       'fraud_Denesik, Powlowski and Pouros', 'fraud_Nader-Maggio',\n",
       "       \"fraud_O'Reilly, Mohr and Purdy\", \"fraud_O'Connell-Ullrich\",\n",
       "       'fraud_Bauch-Blanda', 'fraud_Ruecker, Beer and Collier',\n",
       "       'fraud_Berge-Hills', 'fraud_White and Sons', 'fraud_Adams-Barrows',\n",
       "       'fraud_Pouros-Haag', 'fraud_Hahn, Bahringer and McLaughlin',\n",
       "       'fraud_Ziemann-Waters', 'fraud_Wuckert, Wintheiser and Friesen',\n",
       "       'fraud_Bednar PLC', 'fraud_Kihn Inc', 'fraud_Fisher Inc',\n",
       "       'fraud_Schneider, Hayes and Nikolaus',\n",
       "       \"fraud_Greenholt, O'Hara and Balistreri\", 'fraud_Gottlieb-Hansen',\n",
       "       'fraud_Douglas, Schneider and Turner',\n",
       "       'fraud_Gutmann, McLaughlin and Wiza', 'fraud_Weber and Sons',\n",
       "       'fraud_Bartoletti and Sons', 'fraud_Powlowski-Weimann',\n",
       "       'fraud_Lakin, Ferry and Beatty', 'fraud_Terry, Johns and Bins',\n",
       "       'fraud_Thiel-Thiel', 'fraud_Kuhn Group',\n",
       "       'fraud_Schaefer, Fay and Hilll', 'fraud_Roberts, Ryan and Smith',\n",
       "       'fraud_Stiedemann Ltd', 'fraud_Pacocha-Weissnat',\n",
       "       'fraud_Homenick LLC', 'fraud_Cartwright PLC', 'fraud_Kihn-Fritsch',\n",
       "       'fraud_Lynch Ltd', 'fraud_Klein Group', 'fraud_Quitzon-Goyette',\n",
       "       'fraud_Greenholt Ltd', 'fraud_Bahringer Group',\n",
       "       'fraud_Hilpert-Conroy', 'fraud_Witting, Beer and Ernser',\n",
       "       'fraud_Breitenberg-Hermiston', 'fraud_Friesen Inc',\n",
       "       'fraud_Baumbach, Strosin and Nicolas', 'fraud_Rippin-VonRueden',\n",
       "       'fraud_Nienow, Ankunding and Collier', 'fraud_Schmidt and Sons',\n",
       "       'fraud_Prosacco, Kreiger and Kovacek', 'fraud_Schumm PLC',\n",
       "       'fraud_Berge-Ullrich', 'fraud_Roob, Conn and Tremblay',\n",
       "       'fraud_Kihn-Schuster', 'fraud_Monahan-Morar', 'fraud_Botsford Ltd',\n",
       "       \"fraud_Hamill-D'Amore\", 'fraud_Bradtke, Torp and Bahringer',\n",
       "       'fraud_Gaylord-Powlowski', 'fraud_Mayert Group',\n",
       "       'fraud_Beier and Sons', 'fraud_Abbott-Steuber',\n",
       "       'fraud_Ernser-Lynch', 'fraud_Little Ltd', 'fraud_Gislason Group',\n",
       "       'fraud_Stark-Koss', 'fraud_Crist, Jakubowski and Littel',\n",
       "       'fraud_Kling-Ernser', 'fraud_Cronin, Kshlerin and Weber',\n",
       "       'fraud_Upton PLC', 'fraud_Carroll PLC', 'fraud_Effertz LLC',\n",
       "       'fraud_Windler LLC', 'fraud_Satterfield-Lowe',\n",
       "       'fraud_Schuppe-Schuppe', 'fraud_Nader-Heller', 'fraud_Auer-West',\n",
       "       \"fraud_Lesch, D'Amore and Brown\", 'fraud_Barrows PLC',\n",
       "       \"fraud_O'Connell, Botsford and Hand\", 'fraud_Bode-Schuster',\n",
       "       \"fraud_O'Keefe-Wisoky\", 'fraud_Conroy-Emard', 'fraud_Kutch-Ferry',\n",
       "       'fraud_Donnelly LLC', 'fraud_Weimann-Lockman', 'fraud_Runte-Mohr',\n",
       "       'fraud_Dare, Fritsch and Zboncak',\n",
       "       'fraud_Kihn, Brakus and Goyette', 'fraud_Medhurst PLC',\n",
       "       'fraud_Waelchi Inc', 'fraud_Dickinson Ltd',\n",
       "       'fraud_Little, Gutmann and Lynch', 'fraud_Schaefer Ltd',\n",
       "       'fraud_Ankunding LLC', 'fraud_Schoen-Quigley', 'fraud_Towne LLC',\n",
       "       'fraud_Hills, Hegmann and Schaefer',\n",
       "       'fraud_Durgan, Gislason and Spencer',\n",
       "       'fraud_Hauck, Dietrich and Funk',\n",
       "       'fraud_Lubowitz, Terry and Stracke', 'fraud_Erdman-Ebert',\n",
       "       'fraud_Kub PLC', 'fraud_Lehner, Reichert and Mills',\n",
       "       'fraud_Schiller, Blanda and Johnson', 'fraud_Bins-Howell',\n",
       "       'fraud_Turcotte, Batz and Buckridge', 'fraud_Will Ltd',\n",
       "       'fraud_Gibson-Deckow', 'fraud_Treutel-King',\n",
       "       'fraud_Schmidt-Larkin', 'fraud_Windler, Goodwin and Kovacek',\n",
       "       'fraud_Medhurst Inc', 'fraud_Breitenberg LLC', 'fraud_Terry Ltd',\n",
       "       'fraud_Runte, Green and Emard', 'fraud_Feil-Morar',\n",
       "       'fraud_Kilback and Sons', 'fraud_Conroy, Balistreri and Gorczany',\n",
       "       'fraud_Schuppe LLC', 'fraud_Renner Ltd',\n",
       "       'fraud_Romaguera, Wehner and Tromp', 'fraud_McKenzie-Huels',\n",
       "       'fraud_Dare-Marvin', 'fraud_Gleason and Sons',\n",
       "       'fraud_Cole, Hills and Jewess', 'fraud_Roob-Okuneva',\n",
       "       'fraud_Padberg-Sauer', 'fraud_Gerhold LLC',\n",
       "       'fraud_Botsford and Sons', 'fraud_Volkman-Predovic',\n",
       "       'fraud_Dare-Gibson', 'fraud_Rempel Inc', 'fraud_Torphy-Kertzmann',\n",
       "       'fraud_Runolfsdottir, Mueller and Hand',\n",
       "       'fraud_Torp, Muller and Borer', 'fraud_Abshire PLC',\n",
       "       'fraud_Spencer-Runolfsson', 'fraud_Streich Ltd',\n",
       "       'fraud_Bernier and Sons', 'fraud_Dare, Casper and Bartoletti',\n",
       "       'fraud_Zboncak LLC', 'fraud_Erdman-Durgan', 'fraud_Thiel Ltd',\n",
       "       'fraud_Heathcote LLC', 'fraud_Eichmann-Kilback',\n",
       "       'fraud_Hoppe, Harris and Bednar', 'fraud_Hammes-Beatty',\n",
       "       'fraud_Jacobi and Sons', 'fraud_Jast and Sons',\n",
       "       'fraud_Streich, Rolfson and Wilderman', 'fraud_Zboncak Ltd',\n",
       "       'fraud_Lemke and Sons', 'fraud_Kulas Group', 'fraud_Goldner-Lemke',\n",
       "       'fraud_Predovic Inc', 'fraud_Howe Ltd', 'fraud_Stoltenberg-Beatty',\n",
       "       'fraud_Bruen-Yost', 'fraud_Reichel, Bradtke and Blanda',\n",
       "       'fraud_Morissette PLC', 'fraud_Reichert, Huels and Hoppe',\n",
       "       'fraud_Hills-Witting', 'fraud_Shanahan-Lehner',\n",
       "       'fraud_Bogisich-Weimann', 'fraud_Douglas, DuBuque and McKenzie',\n",
       "       'fraud_Daugherty-Thompson', 'fraud_Goyette-Herzog',\n",
       "       'fraud_Keeling-Crist', 'fraud_Walter, Hettinger and Kessler',\n",
       "       'fraud_Kozey-McDermott', 'fraud_McDermott, Osinski and Morar',\n",
       "       'fraud_Kilback, Nitzsche and Leffler', 'fraud_Vandervort-Funk',\n",
       "       'fraud_Hills-Boyer', 'fraud_Jast Ltd', 'fraud_Grimes LLC',\n",
       "       'fraud_Gulgowski LLC', 'fraud_Mohr-Bayer',\n",
       "       'fraud_Bahringer, Osinski and Block', 'fraud_Simonis-Prohaska',\n",
       "       'fraud_Kunze, Larkin and Mayert',\n",
       "       'fraud_Becker, Harris and Harvey', 'fraud_Kutch-Wilderman',\n",
       "       'fraud_Lehner, Mosciski and King', 'fraud_Heaney-Marquardt',\n",
       "       'fraud_McCullough, Hudson and Schuster', 'fraud_Kilback LLC',\n",
       "       'fraud_Kub-Heaney', 'fraud_Schumm, McLaughlin and Carter',\n",
       "       'fraud_Heller PLC', 'fraud_Hahn, Douglas and Schowalter',\n",
       "       'fraud_Kertzmann LLC', 'fraud_Mueller, Gerhold and Mueller',\n",
       "       'fraud_Reinger, Weissnat and Strosin', 'fraud_Connelly PLC',\n",
       "       'fraud_Conroy Ltd', 'fraud_Willms, Kris and Bergnaum',\n",
       "       'fraud_Pouros, Walker and Spencer',\n",
       "       'fraud_Roberts, Daniel and Macejkovic',\n",
       "       'fraud_Heathcote, Yost and Kertzmann', 'fraud_Larkin Ltd',\n",
       "       'fraud_Metz-Boehm', 'fraud_Parker-Kunde', 'fraud_Yost-Rogahn',\n",
       "       'fraud_Crooks and Sons', 'fraud_Nienow, Barrows and Romaguera',\n",
       "       'fraud_Gleason-Macejkovic', 'fraud_Altenwerth-Kilback',\n",
       "       'fraud_Kuphal-Toy', 'fraud_Schulist Ltd', 'fraud_Welch Inc',\n",
       "       'fraud_Kassulke PLC', 'fraud_Rau-Grant', 'fraud_Macejkovic-Lesch',\n",
       "       'fraud_Graham, Hegmann and Hammes', 'fraud_Waters-Cruickshank',\n",
       "       'fraud_Lesch Ltd', 'fraud_Kozey-Boehm', 'fraud_Bode-Rempel',\n",
       "       'fraud_Romaguera, Cruickshank and Greenholt', 'fraud_Howe PLC',\n",
       "       'fraud_Volkman PLC', 'fraud_Quitzon, Green and Bashirian',\n",
       "       'fraud_Shields-Wunsch', 'fraud_Williamson LLC', 'fraud_Fadel Inc',\n",
       "       'fraud_Pacocha-Bauch', 'fraud_Fisher-Schowalter',\n",
       "       'fraud_Johns Inc', 'fraud_Nolan-Williamson', 'fraud_Maggio-Fahey',\n",
       "       'fraud_Denesik and Sons', 'fraud_Jast-McDermott',\n",
       "       'fraud_Price Inc', 'fraud_Schoen Ltd', 'fraud_Fahey Inc',\n",
       "       'fraud_Stiedemann Inc', 'fraud_Mohr Inc', 'fraud_Wisozk and Sons',\n",
       "       'fraud_Rolfson-Kunde', 'fraud_Wuckert-Goldner',\n",
       "       'fraud_Pouros-Conroy', 'fraud_Kuhn LLC', 'fraud_Skiles LLC',\n",
       "       'fraud_Boyer PLC', 'fraud_Reilly and Sons', 'fraud_Ratke and Sons',\n",
       "       'fraud_Emmerich-Rau', 'fraud_Marvin-Lind', 'fraud_Wiza LLC',\n",
       "       'fraud_Torp-Lemke', 'fraud_Effertz, Welch and Schowalter',\n",
       "       'fraud_Jerde-Hermann', 'fraud_Kassulke Inc',\n",
       "       'fraud_Ankunding-Carroll', 'fraud_Waelchi-Wolf', 'fraud_Pagac LLC',\n",
       "       'fraud_Cormier LLC', 'fraud_Larkin, Stracke and Greenfelder',\n",
       "       'fraud_Ebert-Daugherty', 'fraud_Rohan, White and Aufderhar',\n",
       "       'fraud_Schmeler-Howe', 'fraud_Osinski Inc',\n",
       "       'fraud_Bernhard, Grant and Langworth',\n",
       "       'fraud_Hagenes, Kohler and Hoppe',\n",
       "       'fraud_Klocko, Runolfsdottir and Breitenberg',\n",
       "       'fraud_Larson, Quitzon and Spencer',\n",
       "       'fraud_Weber, Thiel and Hammes', 'fraud_Christiansen-Gusikowski',\n",
       "       'fraud_Morissette-Schaefer', 'fraud_Watsica LLC',\n",
       "       'fraud_Jakubowski Group', 'fraud_Herzog Ltd',\n",
       "       'fraud_Hackett Group', 'fraud_Reichel Inc',\n",
       "       'fraud_Abernathy and Sons', 'fraud_Stark-Batz',\n",
       "       'fraud_Konopelski, Schneider and Hartmann',\n",
       "       'fraud_Ledner, Hartmann and Feest', 'fraud_Champlin-Casper',\n",
       "       'fraud_Goyette-Gerhold', 'fraud_Kihn, Abernathy and Douglas',\n",
       "       'fraud_Stanton, Jakubowski and Baumbach', 'fraud_Terry-Huel',\n",
       "       'fraud_Cummerata-Hilpert', 'fraud_Turner and Sons',\n",
       "       'fraud_Bahringer, Schoen and Corkery',\n",
       "       'fraud_Hettinger, McCullough and Fay',\n",
       "       'fraud_Hayes, Marquardt and Dibbert', 'fraud_Zulauf LLC',\n",
       "       'fraud_Dibbert-Green', 'fraud_Brown Inc', 'fraud_Fadel-Hilpert',\n",
       "       'fraud_Turner, Ziemann and Lehner', 'fraud_Fritsch LLC',\n",
       "       'fraud_Labadie, Treutel and Bode',\n",
       "       'fraud_Hodkiewicz, Prohaska and Paucek', 'fraud_Swift PLC',\n",
       "       'fraud_Little-Gleichner', 'fraud_Stamm-Witting',\n",
       "       'fraud_Zboncak, Rowe and Murazik', 'fraud_Baumbach Ltd',\n",
       "       'fraud_Lowe, Dietrich and Erdman',\n",
       "       'fraud_Hermiston, Russel and Price', 'fraud_Auer LLC',\n",
       "       'fraud_Fritsch and Sons', 'fraud_Wilkinson PLC',\n",
       "       'fraud_Jakubowski Inc', 'fraud_Boyer-Reichert',\n",
       "       'fraud_Boyer-Haley', 'fraud_Dietrich-Fadel',\n",
       "       'fraud_Haley, Jewess and Bechtelar', 'fraud_McGlynn-Jaskolski',\n",
       "       'fraud_Turcotte, McKenzie and Koss',\n",
       "       'fraud_Cormier, Stracke and Thiel',\n",
       "       'fraud_Baumbach, Feeney and Morar', 'fraud_Turcotte-Halvorson',\n",
       "       'fraud_Hyatt-Blick', 'fraud_Bernier, Volkman and Hoeger',\n",
       "       'fraud_Gottlieb, Considine and Schultz', 'fraud_Frami Group',\n",
       "       'fraud_Lebsack and Sons', 'fraud_Haley, Batz and Auer',\n",
       "       'fraud_Beier-Hyatt', 'fraud_Halvorson Group', 'fraud_Johns-Hoeger',\n",
       "       'fraud_Schroeder Group', 'fraud_Weimann, Kuhic and Beahan',\n",
       "       'fraud_Kozey-Kuhlman', 'fraud_Kris-Padberg',\n",
       "       'fraud_Dibbert and Sons', 'fraud_Collier LLC', 'fraud_Bednar Inc',\n",
       "       'fraud_Durgan-Auer', 'fraud_Murray-Smitham',\n",
       "       'fraud_Kling, Howe and Schneider', 'fraud_Larson-Moen',\n",
       "       'fraud_Cruickshank-Mills', 'fraud_Berge, Kautzer and Harris',\n",
       "       \"fraud_O'Hara-Wilderman\", 'fraud_Hyatt, Russel and Gleichner',\n",
       "       'fraud_Bins, Balistreri and Beatty', 'fraud_Jewess LLC',\n",
       "       'fraud_Hartmann, Rowe and Hermann', 'fraud_Buckridge PLC',\n",
       "       'fraud_Langworth LLC', 'fraud_Metz, Russel and Metz',\n",
       "       'fraud_Schoen, Kuphal and Nitzsche', 'fraud_Erdman-Schaden',\n",
       "       'fraud_Reichert-Weissnat', 'fraud_McDermott-Rice',\n",
       "       'fraud_Streich, Dietrich and Barton', 'fraud_Gerlach Inc',\n",
       "       'fraud_Dooley Inc', 'fraud_Thompson-Gleason',\n",
       "       'fraud_Reichert, Shanahan and Hayes',\n",
       "       'fraud_Kutch, Steuber and Gerhold', 'fraud_Harris Group',\n",
       "       'fraud_Schuppe, Nolan and Hoeger', 'fraud_Bashirian Group',\n",
       "       'fraud_Towne, Greenholt and Koepp', 'fraud_Haag-Blanda',\n",
       "       'fraud_Abbott-Rogahn', 'fraud_Lind-Buckridge',\n",
       "       'fraud_Altenwerth, Cartwright and Koss',\n",
       "       'fraud_Daugherty, Pouros and Beahan',\n",
       "       'fraud_Langosh, Wintheiser and Hyatt', 'fraud_Beier LLC',\n",
       "       'fraud_Brown, Homenick and Lesch', 'fraud_Spencer PLC',\n",
       "       'fraud_Ritchie, Oberbrunner and Cremin', 'fraud_Kovacek Ltd',\n",
       "       'fraud_Pollich LLC', 'fraud_Baumbach, Hodkiewicz and Walsh',\n",
       "       'fraud_Koss, McLaughlin and Mayer', 'fraud_Kessler Group',\n",
       "       'fraud_Smith-Stokes', 'fraud_Herman Inc', 'fraud_Kuhic LLC',\n",
       "       'fraud_Pfeffer and Sons', 'fraud_Botsford PLC',\n",
       "       'fraud_Schoen, Nienow and Bauch', 'fraud_Turner LLC',\n",
       "       'fraud_Parker, Nolan and Trantow',\n",
       "       'fraud_Ritchie, Bradtke and Stiedemann', 'fraud_Ruecker-Mayert',\n",
       "       'fraud_Ullrich Ltd', 'fraud_Schmeler, Bashirian and Price',\n",
       "       'fraud_Mosciski Group', 'fraud_Boehm, Block and Jakubowski',\n",
       "       'fraud_Deckow-Dare', 'fraud_Beer-Jast', 'fraud_Schimmel-Olson',\n",
       "       'fraud_Schmeler Inc', 'fraud_Thiel PLC',\n",
       "       'fraud_Boehm, Predovic and Reinger', 'fraud_Graham and Sons',\n",
       "       'fraud_McCullough LLC', 'fraud_Mosciski, Gislason and Mertz',\n",
       "       'fraud_Schroeder, Hauck and Treutel', 'fraud_Block-Parisian',\n",
       "       'fraud_Flatley Group', 'fraud_McLaughlin, Armstrong and Koepp',\n",
       "       'fraud_Wilkinson LLC', 'fraud_Sawayn PLC', 'fraud_Eichmann-Russel',\n",
       "       'fraud_Hermann and Sons', 'fraud_Goyette Inc', 'fraud_Barton LLC',\n",
       "       'fraud_Yost, Block and Koepp', 'fraud_Kerluke-Abshire',\n",
       "       'fraud_Padberg-Rogahn', 'fraud_Dach-Nader',\n",
       "       'fraud_Wintheiser, Dietrich and Schimmel',\n",
       "       'fraud_Champlin, Rolfson and Connelly', 'fraud_Jacobi Inc',\n",
       "       'fraud_Koelpin and Sons', 'fraud_Medhurst, Labadie and Gottlieb',\n",
       "       'fraud_Bednar Group', 'fraud_Friesen-Ortiz',\n",
       "       'fraud_Turner, Ruecker and Parisian', 'fraud_Rutherford-Mertz',\n",
       "       'fraud_Gutmann-Upton', 'fraud_Medhurst, Cartwright and Ebert',\n",
       "       'fraud_Nicolas, Hills and McGlynn',\n",
       "       'fraud_Nitzsche, Kessler and Wolff', 'fraud_Wilkinson Ltd',\n",
       "       'fraud_Kris-Kertzmann', 'fraud_Roberts-Beahan',\n",
       "       'fraud_Bernhard-Lesch', 'fraud_Monahan, Bogisich and Ledner',\n",
       "       'fraud_Kessler Inc', 'fraud_Padberg-Welch', 'fraud_Block Group',\n",
       "       'fraud_Torphy-Goyette', 'fraud_Mante, Luettgen and Hackett',\n",
       "       'fraud_Bailey-Morar', 'fraud_Lynch-Mohr',\n",
       "       'fraud_Rodriguez, Yost and Jenkins', 'fraud_Stamm-Rodriguez',\n",
       "       'fraud_Okuneva, Schneider and Rau', 'fraud_Hirthe-Beier',\n",
       "       'fraud_Tromp Group', 'fraud_Schroeder, Wolff and Hermiston',\n",
       "       'fraud_Reichert, Rowe and Mraz', 'fraud_Bahringer-Streich',\n",
       "       'fraud_Romaguera and Sons', 'fraud_Lemke-Gutmann',\n",
       "       'fraud_Heller-Langosh', 'fraud_Hintz-Bruen',\n",
       "       'fraud_McGlynn-Heathcote', 'fraud_Bernhard Inc',\n",
       "       'fraud_Bahringer-Larson', 'fraud_Reilly, Heaney and Cole',\n",
       "       'fraud_Bernier, Streich and Jewess', \"fraud_Friesen-D'Amore\",\n",
       "       'fraud_Huel, Hammes and Witting', 'fraud_Miller-Hauck',\n",
       "       'fraud_Skiles-Ankunding', 'fraud_Schmitt Ltd', 'fraud_Kerluke Inc',\n",
       "       'fraud_Volkman Ltd', 'fraud_Prohaska-Murray', 'fraud_Schmitt Inc',\n",
       "       'fraud_Kerluke, Considine and Macejkovic', 'fraud_Kutch-Hegmann',\n",
       "       'fraud_Spinka Inc', 'fraud_Stracke-Lemke',\n",
       "       'fraud_Raynor, Feest and Miller', 'fraud_Strosin-Cruickshank',\n",
       "       'fraud_Schaefer, McGlynn and Bosco', 'fraud_Marks Inc',\n",
       "       'fraud_Huel-Langworth', 'fraud_Eichmann, Bogan and Rodriguez',\n",
       "       'fraud_Morissette, Weber and Wiegand',\n",
       "       'fraud_Moen, Reinger and Murphy',\n",
       "       'fraud_Schultz, Simonis and Little',\n",
       "       'fraud_Ferry, Lynch and Kautzer',\n",
       "       'fraud_Osinski, Ledner and Leuschke', 'fraud_Ledner-Pfannerstill',\n",
       "       \"fraud_O'Keefe-Hudson\", 'fraud_Murray Ltd', 'fraud_Pfeffer LLC',\n",
       "       'fraud_Cole PLC', 'fraud_Hudson-Ratke', 'fraud_Kuvalis Ltd',\n",
       "       'fraud_Miller-Harris', 'fraud_Zieme, Bode and Dooley',\n",
       "       'fraud_Swaniawski, Lowe and Robel', 'fraud_Kemmer-Buckridge',\n",
       "       'fraud_Swift, Bradtke and Marquardt',\n",
       "       'fraud_Olson, Becker and Koch', 'fraud_Bartoletti-Wunsch',\n",
       "       'fraud_Emard Inc', 'fraud_Ferry, Reichel and DuBuque',\n",
       "       'fraud_Kemmer-Reinger', 'fraud_Koss and Sons',\n",
       "       'fraud_Hackett-Lueilwitz', 'fraud_Barton Inc', 'fraud_Lockman Ltd',\n",
       "       'fraud_Klocko LLC', 'fraud_Kunze Inc', 'fraud_Luettgen PLC',\n",
       "       'fraud_Cummerata-Jones', 'fraud_Rowe, Batz and Goodwin',\n",
       "       'fraud_Kling Inc', 'fraud_Kiehn-Emmerich',\n",
       "       'fraud_Parisian and Sons', 'fraud_Sporer Inc',\n",
       "       'fraud_Kuphal-Bartoletti', 'fraud_Harris, Gusikowski and Heaney',\n",
       "       'fraud_Mraz-Herzog', 'fraud_Huels-Hahn',\n",
       "       'fraud_Stroman, Hudson and Erdman', 'fraud_Huel Ltd',\n",
       "       'fraud_Cremin, Hamill and Reichel', 'fraud_Rowe-Vandervort',\n",
       "       'fraud_Bins-Rice', 'fraud_DuBuque LLC', 'fraud_Torp-Labadie',\n",
       "       'fraud_Kiehn Inc', 'fraud_Tillman, Dickinson and Labadie',\n",
       "       'fraud_Friesen-Stamm', 'fraud_Kuhic Inc', 'fraud_Dickinson-Rempel',\n",
       "       'fraud_Hudson-Grady', 'fraud_Goldner, Kovacek and Abbott',\n",
       "       'fraud_Corwin-Collins', 'fraud_Tillman, Fritsch and Schmitt',\n",
       "       'fraud_Dach-Borer', 'fraud_Morar Inc',\n",
       "       'fraud_Kutch, Hermiston and Farrell',\n",
       "       'fraud_Connelly, Reichert and Fritsch',\n",
       "       \"fraud_Schamberger-O'Keefe\", 'fraud_McDermott-Weimann',\n",
       "       'fraud_Kerluke PLC', 'fraud_Casper, Hand and Zulauf',\n",
       "       'fraud_Greenfelder, Bartoletti and Davis',\n",
       "       'fraud_Cartwright-Harris', 'fraud_Rau and Sons',\n",
       "       'fraud_Erdman-Kertzmann', 'fraud_Hamill-Daugherty',\n",
       "       'fraud_Jaskolski-Vandervort', 'fraud_Huels-Nolan',\n",
       "       'fraud_Trantow PLC', 'fraud_Lockman, West and Runte',\n",
       "       'fraud_Johnson, Runolfsdottir and Mayer',\n",
       "       'fraud_Kovacek, Dibbert and Ondricka',\n",
       "       'fraud_Raynor, Reinger and Hagenes', 'fraud_Kutch LLC',\n",
       "       'fraud_Dooley-Thompson', 'fraud_Harber Inc',\n",
       "       'fraud_Schumm, Bauch and Ondricka',\n",
       "       'fraud_Moore, Dibbert and Koepp', 'fraud_Flatley-Durgan',\n",
       "       'fraud_Rodriguez Group', 'fraud_Stokes, Christiansen and Sipes',\n",
       "       'fraud_Heidenreich PLC', 'fraud_Bauch-Raynor',\n",
       "       'fraud_Langworth, Boehm and Gulgowski',\n",
       "       'fraud_Runolfsson and Sons', 'fraud_Ortiz Group',\n",
       "       'fraud_Zemlak Group', 'fraud_Wuckert-Walter',\n",
       "       'fraud_Tromp, Kerluke and Glover', 'fraud_Ruecker Group',\n",
       "       \"fraud_Deckow-O'Conner\", 'fraud_Heller, Gutmann and Zieme',\n",
       "       'fraud_Robel, Cummerata and Prosacco',\n",
       "       'fraud_Lind, Huel and McClure', 'fraud_Roob LLC',\n",
       "       'fraud_VonRueden Group', 'fraud_Wolf Inc', 'fraud_Kutch and Sons',\n",
       "       'fraud_Gutmann Ltd', 'fraud_Jones, Sawayn and Romaguera',\n",
       "       'fraud_Brekke and Sons', 'fraud_Adams, Kovacek and Kuhlman',\n",
       "       'fraud_Collier Inc', 'fraud_Greenholt, Jacobi and Gleason',\n",
       "       'fraud_Stehr, Jewess and Schimmel', 'fraud_Koepp-Witting',\n",
       "       'fraud_Cummings LLC', 'fraud_Wiegand-Lowe', 'fraud_Paucek-Wiza',\n",
       "       'fraud_Conroy-Cruickshank', 'fraud_Bogisich-Homenick',\n",
       "       'fraud_Jenkins, Hauck and Friesen', 'fraud_Emmerich-Luettgen',\n",
       "       'fraud_Cassin-Harvey', 'fraud_Schaefer, Maggio and Daugherty',\n",
       "       'fraud_Kohler, Lindgren and Koelpin', 'fraud_Doyle Ltd',\n",
       "       'fraud_Heller-Abshire', 'fraud_Mosciski, Ziemann and Farrell',\n",
       "       'fraud_Cummings Group', 'fraud_Swaniawski, Bahringer and Ledner',\n",
       "       'fraud_Christiansen, Goyette and Schamberger', 'fraud_Bradtke PLC',\n",
       "       'fraud_Streich, Hansen and Veum', \"fraud_Pacocha-O'Reilly\",\n",
       "       'fraud_Koepp-Parker', 'fraud_Auer-Mosciski',\n",
       "       'fraud_Wiza, Schaden and Stark', 'fraud_Kuhic, Bins and Pfeffer',\n",
       "       'fraud_Bogisich Inc', 'fraud_Kling-Grant', 'fraud_Kutch Group',\n",
       "       'fraud_Kuphal-Predovic', 'fraud_Balistreri-Nader',\n",
       "       'fraud_Harris Inc', 'fraud_Berge LLC',\n",
       "       'fraud_Towne, Walker and Borer',\n",
       "       'fraud_Herman, Treutel and Dickens', 'fraud_Kris-Weimann',\n",
       "       'fraud_Reynolds-Schinner', 'fraud_Goodwin-Nitzsche',\n",
       "       'fraud_Jaskolski-Dibbert', 'fraud_Dicki Ltd', 'fraud_Funk Group',\n",
       "       'fraud_Rutherford, Homenick and Bergstrom',\n",
       "       'fraud_Kerluke, Kertzmann and Wiza', 'fraud_Donnelly PLC',\n",
       "       'fraud_Spinka-Welch', 'fraud_Brown PLC', 'fraud_Kunde-Sanford',\n",
       "       'fraud_Parisian, Schiller and Altenwerth', 'fraud_Smitham-Boehm',\n",
       "       'fraud_Shields Inc', 'fraud_Johnston, Nikolaus and Maggio',\n",
       "       'fraud_Smitham-Schiller', 'fraud_Hills-Olson',\n",
       "       'fraud_Rippin, Kub and Mann', 'fraud_Rempel PLC',\n",
       "       'fraud_Leannon-Nikolaus', 'fraud_Monahan, Hermann and Johns',\n",
       "       'fraud_Block-Hauck', 'fraud_Hagenes, Hermann and Stroman',\n",
       "       'fraud_Hermann-Gaylord', 'fraud_Mante Group',\n",
       "       'fraud_Corwin-Gorczany', 'fraud_McCullough Group'], dtype=object)"
      ]
     },
     "execution_count": 20,
     "metadata": {},
     "output_type": "execute_result"
    }
   ],
   "source": [
    "# merchant\n",
    "train['merchant'].unique()"
   ]
  },
  {
   "cell_type": "code",
   "execution_count": 21,
   "metadata": {
    "colab": {
     "base_uri": "https://localhost:8080/"
    },
    "id": "_V8rhQjTxXF5",
    "outputId": "ac8c5fcb-8c05-435f-ba26-67fca92818ba"
   },
   "outputs": [
    {
     "data": {
      "text/plain": [
       "array(['personal_care', 'health_fitness', 'misc_pos', 'travel',\n",
       "       'kids_pets', 'shopping_pos', 'food_dining', 'home',\n",
       "       'entertainment', 'shopping_net', 'misc_net', 'grocery_pos',\n",
       "       'gas_transport', 'grocery_net'], dtype=object)"
      ]
     },
     "execution_count": 21,
     "metadata": {},
     "output_type": "execute_result"
    }
   ],
   "source": [
    "train[\"category\"].unique()"
   ]
  },
  {
   "cell_type": "code",
   "execution_count": 22,
   "metadata": {
    "colab": {
     "base_uri": "https://localhost:8080/"
    },
    "id": "uC1qgU4rxeTK",
    "outputId": "6d3d1adb-e12c-43aa-a81c-3ef2992effce"
   },
   "outputs": [
    {
     "data": {
      "text/plain": [
       "0      Jeff\n",
       "1    Joanne\n",
       "2    Ashley\n",
       "3     Brian\n",
       "4    Nathan\n",
       "Name: first, dtype: object"
      ]
     },
     "execution_count": 22,
     "metadata": {},
     "output_type": "execute_result"
    }
   ],
   "source": [
    "train[\"first\"].head()"
   ]
  },
  {
   "cell_type": "code",
   "execution_count": 23,
   "metadata": {
    "colab": {
     "base_uri": "https://localhost:8080/"
    },
    "id": "IBhpeKqu0d01",
    "outputId": "a842b1bc-42a6-4e52-be3a-b9695c525321"
   },
   "outputs": [
    {
     "data": {
      "text/plain": [
       "0     Elliott\n",
       "1    Williams\n",
       "2       Lopez\n",
       "3    Williams\n",
       "4      Massey\n",
       "Name: last, dtype: object"
      ]
     },
     "execution_count": 23,
     "metadata": {},
     "output_type": "execute_result"
    }
   ],
   "source": [
    "train['last'].head()"
   ]
  },
  {
   "cell_type": "code",
   "execution_count": 24,
   "metadata": {
    "colab": {
     "base_uri": "https://localhost:8080/"
    },
    "id": "EDzzztq_0jF6",
    "outputId": "7e63dabc-34f0-4b38-ff6b-1f3147cae9aa"
   },
   "outputs": [
    {
     "data": {
      "text/plain": [
       "(555719, 23)"
      ]
     },
     "execution_count": 24,
     "metadata": {},
     "output_type": "execute_result"
    }
   ],
   "source": [
    "#first and last just names, so drop it\n",
    "train = train.drop(['first', 'last','merchant'], axis=1)\n",
    "train.shape"
   ]
  },
  {
   "cell_type": "code",
   "execution_count": 25,
   "metadata": {
    "colab": {
     "base_uri": "https://localhost:8080/"
    },
    "id": "-G5rY8Fg2q38",
    "outputId": "7eaa65b6-72cc-4561-ad0e-2d881ff474f6"
   },
   "outputs": [
    {
     "data": {
      "text/plain": [
       "(1296675, 23)"
      ]
     },
     "execution_count": 25,
     "metadata": {},
     "output_type": "execute_result"
    }
   ],
   "source": [
    "test = test.drop(['first', 'last','merchant'], axis=1)\n",
    "test.shape"
   ]
  },
  {
   "cell_type": "code",
   "execution_count": 26,
   "metadata": {
    "colab": {
     "base_uri": "https://localhost:8080/"
    },
    "id": "HEPxEVzL0zxK",
    "outputId": "76180626-8bff-42d7-f87a-2d6a4ab7a694"
   },
   "outputs": [
    {
     "name": "stdout",
     "output_type": "stream",
     "text": [
      "<class 'pandas.core.frame.DataFrame'>\n",
      "RangeIndex: 555719 entries, 0 to 555718\n",
      "Data columns (total 23 columns):\n",
      " #   Column                 Non-Null Count   Dtype         \n",
      "---  ------                 --------------   -----         \n",
      " 0   trans_date_trans_time  555719 non-null  datetime64[ns]\n",
      " 1   cc_num                 555719 non-null  int64         \n",
      " 2   category               555719 non-null  object        \n",
      " 3   amt                    555719 non-null  float64       \n",
      " 4   gender                 555719 non-null  object        \n",
      " 5   street                 555719 non-null  object        \n",
      " 6   city                   555719 non-null  object        \n",
      " 7   state                  555719 non-null  object        \n",
      " 8   zip                    555719 non-null  int64         \n",
      " 9   lat                    555719 non-null  float64       \n",
      " 10  long                   555719 non-null  float64       \n",
      " 11  city_pop               555719 non-null  int64         \n",
      " 12  job                    555719 non-null  object        \n",
      " 13  dob                    555719 non-null  object        \n",
      " 14  trans_num              555719 non-null  object        \n",
      " 15  unix_time              555719 non-null  int64         \n",
      " 16  merch_lat              555719 non-null  float64       \n",
      " 17  merch_long             555719 non-null  float64       \n",
      " 18  is_fraud               555719 non-null  int64         \n",
      " 19  trans_year             555719 non-null  int64         \n",
      " 20  trans_month            555719 non-null  int64         \n",
      " 21  trans_day              555719 non-null  int64         \n",
      " 22  trans_hour             555719 non-null  int64         \n",
      "dtypes: datetime64[ns](1), float64(5), int64(9), object(8)\n",
      "memory usage: 97.5+ MB\n"
     ]
    }
   ],
   "source": [
    "train.info()"
   ]
  },
  {
   "cell_type": "code",
   "execution_count": 27,
   "metadata": {
    "id": "gOeP4g2R00yh"
   },
   "outputs": [],
   "source": [
    "#change the gender into dummy variables\n",
    "df_gender = pd.get_dummies(train['gender'])\n",
    " \n",
    "# Binary Data is Concatenated into Dataframe\n",
    "train = pd.concat((df_gender, train), axis=1)\n",
    " \n",
    "# Gendercolumn is dropped\n",
    "train2 = train.drop([\"gender\"], axis=1)\n",
    " \n",
    "# We want Male =0 and Female =1 So we drop Male column here\n",
    "train2 = train2.drop([\"M\"], axis=1)"
   ]
  },
  {
   "cell_type": "code",
   "execution_count": 28,
   "metadata": {
    "id": "rOD--I0c2vZf"
   },
   "outputs": [],
   "source": [
    "#change the gender into dummy variables\n",
    "test_gender = pd.get_dummies(test['gender'])\n",
    " \n",
    "# Binary Data is Concatenated into Dataframe\n",
    "test = pd.concat((test_gender, test), axis=1)\n",
    " \n",
    "# Gendercolumn is dropped\n",
    "test2 = test.drop([\"gender\"], axis=1)\n",
    " \n",
    "# We want Male =0 and Female =1 So we drop Male column here\n",
    "test2 = test2.drop([\"M\"], axis=1)"
   ]
  },
  {
   "cell_type": "code",
   "execution_count": 29,
   "metadata": {
    "colab": {
     "base_uri": "https://localhost:8080/"
    },
    "id": "Pl1yAtpS212C",
    "outputId": "8db09c95-8477-4d70-af67-0afeb56a4814"
   },
   "outputs": [
    {
     "name": "stdout",
     "output_type": "stream",
     "text": [
      "<class 'pandas.core.frame.DataFrame'>\n",
      "RangeIndex: 1296675 entries, 0 to 1296674\n",
      "Data columns (total 23 columns):\n",
      " #   Column                 Non-Null Count    Dtype         \n",
      "---  ------                 --------------    -----         \n",
      " 0   F                      1296675 non-null  uint8         \n",
      " 1   trans_date_trans_time  1296675 non-null  datetime64[ns]\n",
      " 2   cc_num                 1296675 non-null  int64         \n",
      " 3   category               1296675 non-null  object        \n",
      " 4   amt                    1296675 non-null  float64       \n",
      " 5   street                 1296675 non-null  object        \n",
      " 6   city                   1296675 non-null  object        \n",
      " 7   state                  1296675 non-null  object        \n",
      " 8   zip                    1296675 non-null  int64         \n",
      " 9   lat                    1296675 non-null  float64       \n",
      " 10  long                   1296675 non-null  float64       \n",
      " 11  city_pop               1296675 non-null  int64         \n",
      " 12  job                    1296675 non-null  object        \n",
      " 13  dob                    1296675 non-null  object        \n",
      " 14  trans_num              1296675 non-null  object        \n",
      " 15  unix_time              1296675 non-null  int64         \n",
      " 16  merch_lat              1296675 non-null  float64       \n",
      " 17  merch_long             1296675 non-null  float64       \n",
      " 18  is_fraud               1296675 non-null  int64         \n",
      " 19  trans_year             1296675 non-null  int64         \n",
      " 20  trans_month            1296675 non-null  int64         \n",
      " 21  trans_day              1296675 non-null  int64         \n",
      " 22  trans_hour             1296675 non-null  int64         \n",
      "dtypes: datetime64[ns](1), float64(5), int64(9), object(7), uint8(1)\n",
      "memory usage: 218.9+ MB\n"
     ]
    }
   ],
   "source": [
    "test2.info()"
   ]
  },
  {
   "cell_type": "markdown",
   "metadata": {},
   "source": [
    "### 6. zip code has the same function as city, street, state"
   ]
  },
  {
   "cell_type": "code",
   "execution_count": 30,
   "metadata": {
    "colab": {
     "base_uri": "https://localhost:8080/"
    },
    "id": "uNl9UgptZaIu",
    "outputId": "b1d7b7ad-37f3-4aea-a3f9-0ad359b914ca"
   },
   "outputs": [
    {
     "name": "stdout",
     "output_type": "stream",
     "text": [
      "<class 'pandas.core.frame.DataFrame'>\n",
      "RangeIndex: 555719 entries, 0 to 555718\n",
      "Data columns (total 19 columns):\n",
      " #   Column                 Non-Null Count   Dtype         \n",
      "---  ------                 --------------   -----         \n",
      " 0   F                      555719 non-null  uint8         \n",
      " 1   trans_date_trans_time  555719 non-null  datetime64[ns]\n",
      " 2   cc_num                 555719 non-null  int64         \n",
      " 3   category               555719 non-null  object        \n",
      " 4   amt                    555719 non-null  float64       \n",
      " 5   zip                    555719 non-null  int64         \n",
      " 6   lat                    555719 non-null  float64       \n",
      " 7   long                   555719 non-null  float64       \n",
      " 8   city_pop               555719 non-null  int64         \n",
      " 9   job                    555719 non-null  object        \n",
      " 10  dob                    555719 non-null  object        \n",
      " 11  unix_time              555719 non-null  int64         \n",
      " 12  merch_lat              555719 non-null  float64       \n",
      " 13  merch_long             555719 non-null  float64       \n",
      " 14  is_fraud               555719 non-null  int64         \n",
      " 15  trans_year             555719 non-null  int64         \n",
      " 16  trans_month            555719 non-null  int64         \n",
      " 17  trans_day              555719 non-null  int64         \n",
      " 18  trans_hour             555719 non-null  int64         \n",
      "dtypes: datetime64[ns](1), float64(5), int64(9), object(3), uint8(1)\n",
      "memory usage: 76.8+ MB\n"
     ]
    }
   ],
   "source": [
    "#zip code has the same function as city, street, state\n",
    "train3 = train2.drop(['street', 'city','state','trans_num'], axis=1)\n",
    "train3.info()"
   ]
  },
  {
   "cell_type": "code",
   "execution_count": 31,
   "metadata": {
    "colab": {
     "base_uri": "https://localhost:8080/"
    },
    "id": "xHSB4Ez23HqR",
    "outputId": "cd5365dc-2d31-44d8-b1e8-d57ddd341afd"
   },
   "outputs": [
    {
     "name": "stdout",
     "output_type": "stream",
     "text": [
      "<class 'pandas.core.frame.DataFrame'>\n",
      "RangeIndex: 1296675 entries, 0 to 1296674\n",
      "Data columns (total 19 columns):\n",
      " #   Column                 Non-Null Count    Dtype         \n",
      "---  ------                 --------------    -----         \n",
      " 0   F                      1296675 non-null  uint8         \n",
      " 1   trans_date_trans_time  1296675 non-null  datetime64[ns]\n",
      " 2   cc_num                 1296675 non-null  int64         \n",
      " 3   category               1296675 non-null  object        \n",
      " 4   amt                    1296675 non-null  float64       \n",
      " 5   zip                    1296675 non-null  int64         \n",
      " 6   lat                    1296675 non-null  float64       \n",
      " 7   long                   1296675 non-null  float64       \n",
      " 8   city_pop               1296675 non-null  int64         \n",
      " 9   job                    1296675 non-null  object        \n",
      " 10  dob                    1296675 non-null  object        \n",
      " 11  unix_time              1296675 non-null  int64         \n",
      " 12  merch_lat              1296675 non-null  float64       \n",
      " 13  merch_long             1296675 non-null  float64       \n",
      " 14  is_fraud               1296675 non-null  int64         \n",
      " 15  trans_year             1296675 non-null  int64         \n",
      " 16  trans_month            1296675 non-null  int64         \n",
      " 17  trans_day              1296675 non-null  int64         \n",
      " 18  trans_hour             1296675 non-null  int64         \n",
      "dtypes: datetime64[ns](1), float64(5), int64(9), object(3), uint8(1)\n",
      "memory usage: 179.3+ MB\n"
     ]
    }
   ],
   "source": [
    "\n",
    "test3 = test2.drop(['street', 'city','state','trans_num'], axis=1)\n",
    "test3.info()"
   ]
  },
  {
   "cell_type": "markdown",
   "metadata": {},
   "source": [
    "### 7. Converting dob"
   ]
  },
  {
   "cell_type": "code",
   "execution_count": 32,
   "metadata": {
    "colab": {
     "base_uri": "https://localhost:8080/"
    },
    "id": "jWq6qphgaIxn",
    "outputId": "ee91b2c2-5aac-4e29-c481-220a0c2dd3b4"
   },
   "outputs": [
    {
     "data": {
      "text/plain": [
       "0   1968-03-19\n",
       "1   1990-01-17\n",
       "2   1970-10-21\n",
       "3   1987-07-25\n",
       "4   1955-07-06\n",
       "Name: dob, dtype: datetime64[ns]"
      ]
     },
     "execution_count": 32,
     "metadata": {},
     "output_type": "execute_result"
    }
   ],
   "source": [
    "train3['dob']=pd.to_datetime(train3['dob'])\n",
    "train3['dob'].head()"
   ]
  },
  {
   "cell_type": "code",
   "execution_count": 33,
   "metadata": {
    "colab": {
     "base_uri": "https://localhost:8080/"
    },
    "id": "uHk3nyJX3NOE",
    "outputId": "39767bc4-134a-4d56-8eb6-e4514c0ecb7c"
   },
   "outputs": [
    {
     "data": {
      "text/plain": [
       "0   1988-03-09\n",
       "1   1978-06-21\n",
       "2   1962-01-19\n",
       "3   1967-01-12\n",
       "4   1986-03-28\n",
       "Name: dob, dtype: datetime64[ns]"
      ]
     },
     "execution_count": 33,
     "metadata": {},
     "output_type": "execute_result"
    }
   ],
   "source": [
    "#converst dob\n",
    "test3['dob']=pd.to_datetime(test3['dob'])\n",
    "test3['dob'].head()"
   ]
  },
  {
   "cell_type": "code",
   "execution_count": 34,
   "metadata": {
    "colab": {
     "base_uri": "https://localhost:8080/",
     "height": 455
    },
    "id": "7Pjt_tHXaOV5",
    "outputId": "494ee76d-9898-463d-a6cb-c33f621668a9"
   },
   "outputs": [
    {
     "data": {
      "image/png": "[encoded data removed]",
      "text/plain": [
       "<Figure size 432x288 with 1 Axes>"
      ]
     },
     "metadata": {
      "needs_background": "light"
     },
     "output_type": "display_data"
    }
   ],
   "source": [
    "train3[train3['is_fraud']==1][\"job\"].value_counts(sort=True,ascending=False).head(10).plot(kind=\"bar\")\n",
    "plt.title(\"Number of Credit Card Frauds by Job\")\n",
    "plt.show()"
   ]
  },
  {
   "cell_type": "code",
   "execution_count": 35,
   "metadata": {
    "colab": {
     "base_uri": "https://localhost:8080/"
    },
    "id": "EHS6VVQjbAQ7",
    "outputId": "8d239f3b-398f-4e13-81c0-34084f1c7180"
   },
   "outputs": [
    {
     "data": {
      "text/plain": [
       "array(['Mechanical engineer', 'Sales professional, IT',\n",
       "       'Librarian, public', 'Set designer', 'Furniture designer',\n",
       "       'Psychotherapist', 'Therapist, occupational',\n",
       "       'Development worker, international aid', 'Advice worker',\n",
       "       'Barrister', 'Pensions consultant', 'Freight forwarder',\n",
       "       'Paramedic', 'Building surveyor', 'Materials engineer',\n",
       "       'Commercial horticulturist', 'Town planner',\n",
       "       'Radiographer, therapeutic', 'Surveyor, rural practice',\n",
       "       'Energy manager', 'Prison officer',\n",
       "       'Museum/gallery exhibitions officer', 'Media planner',\n",
       "       'Seismic interpreter', 'Learning disability nurse',\n",
       "       'Buyer, industrial', 'Scientific laboratory technician',\n",
       "       'Counselling psychologist', 'Scientist, biomedical',\n",
       "       'Audiological scientist', 'Stage manager',\n",
       "       'Leisure centre manager', 'Community pharmacist', 'Risk analyst',\n",
       "       'Clinical research associate', 'Librarian, academic',\n",
       "       'Editor, magazine features', 'Ceramics designer', 'Musician',\n",
       "       'Designer, furniture', 'Exhibition designer',\n",
       "       'Engineer, automotive', 'Film/video editor', 'Web designer',\n",
       "       'Environmental consultant', 'Production assistant, television',\n",
       "       'Education officer, community',\n",
       "       'Senior tax professional/tax inspector', 'Investment analyst',\n",
       "       'Loss adjuster, chartered', 'Scientist, audiological',\n",
       "       'Tax inspector', 'Primary school teacher',\n",
       "       'Agricultural consultant', 'Geochemist', 'Geneticist, molecular',\n",
       "       'Medical sales representative', 'Petroleum engineer',\n",
       "       'Advertising account planner', 'Travel agency manager',\n",
       "       'Music therapist', 'Neurosurgeon', 'Further education lecturer',\n",
       "       'Therapist, sports', 'Operational researcher', 'Site engineer',\n",
       "       'Communications engineer', 'Child psychotherapist',\n",
       "       'Engineer, land', 'Dealer', 'Amenity horticulturist',\n",
       "       'Electronics engineer', 'Research officer, political party',\n",
       "       'Accounting technician', 'Licensed conveyancer',\n",
       "       'Programmer, multimedia', 'Chief Financial Officer',\n",
       "       'Health promotion specialist', 'Field seismologist', 'Chiropodist',\n",
       "       'Special effects artist', 'Designer, ceramics/pottery',\n",
       "       'Systems developer', 'Biomedical scientist',\n",
       "       'Geophysicist/field seismologist', 'Electrical engineer',\n",
       "       'Equities trader', 'Energy engineer', 'Police officer',\n",
       "       'Music tutor', \"Nurse, children's\", 'Jewellery designer',\n",
       "       'Therapist, art', 'Archivist', 'Production manager',\n",
       "       'Farm manager', 'Editor, film/video', 'Engineer, production',\n",
       "       'Journalist, newspaper', 'Drilling engineer',\n",
       "       'Psychotherapist, child',\n",
       "       'Programme researcher, broadcasting/film/video', 'Contractor',\n",
       "       'Sub', 'Broadcast engineer', 'Animal nutritionist',\n",
       "       'Intelligence analyst', 'Engineer, electronics',\n",
       "       'Historic buildings inspector/conservation officer', 'Optometrist',\n",
       "       'Firefighter', 'Copywriter, advertising', 'Designer, jewellery',\n",
       "       'Scientist, physiological', 'Financial adviser',\n",
       "       'Early years teacher', 'Insurance broker', 'Broadcast presenter',\n",
       "       'Clothing/textile technologist', 'Probation officer',\n",
       "       'Forensic psychologist', 'Telecommunications researcher',\n",
       "       'Teacher, early years/pre',\n",
       "       'Conservation officer, historic buildings',\n",
       "       'Educational psychologist', 'Rural practice surveyor',\n",
       "       'Patent attorney', 'Futures trader', 'Hospital doctor',\n",
       "       'Chief Executive Officer', 'Chartered public finance accountant',\n",
       "       'Charity fundraiser', 'Information systems manager',\n",
       "       'Environmental manager', 'Designer, exhibition/display',\n",
       "       'Retail banker', 'English as a second language teacher',\n",
       "       'Building services engineer', 'Buyer, retail',\n",
       "       'Surveyor, land/geomatics', 'Conservator, furniture',\n",
       "       'Exhibitions officer, museum/gallery',\n",
       "       'Accountant, chartered public finance', 'Secretary/administrator',\n",
       "       'Production assistant, radio', 'Water engineer',\n",
       "       'Insurance risk surveyor', 'Optician, dispensing',\n",
       "       'Fisheries officer', 'Social research officer, government',\n",
       "       'Curator', 'Applications developer', 'Chartered accountant',\n",
       "       'Comptroller', 'Land', 'Control and instrumentation engineer',\n",
       "       'Community education officer', 'Osteopath', 'Surgeon',\n",
       "       'Sales executive', 'Lecturer, higher education',\n",
       "       'Public relations account executive', 'Transport planner',\n",
       "       'Investment banker, corporate', 'Camera operator',\n",
       "       'Land/geomatics surveyor', 'Engineer, mining',\n",
       "       'Armed forces training and education officer',\n",
       "       'Manufacturing engineer', 'Technical brewer', 'Warden/ranger',\n",
       "       'Radio broadcast assistant', 'Trade mark attorney', 'Metallurgist',\n",
       "       'Heritage manager', 'Podiatrist', 'Counsellor', 'Gaffer',\n",
       "       'Exercise physiologist', 'Engineer, technical sales',\n",
       "       'Toxicologist', 'Magazine features editor', 'Lexicographer',\n",
       "       'Editor, commissioning', 'Phytotherapist',\n",
       "       'Careers information officer', 'Tax adviser',\n",
       "       'Advertising copywriter', 'Occupational hygienist',\n",
       "       'Accountant, chartered certified', 'Press photographer',\n",
       "       'Wellsite geologist', 'Animator', 'Secondary school teacher',\n",
       "       'Race relations officer', 'Tourism officer', 'Biomedical engineer',\n",
       "       'Lecturer, further education', 'Public house manager',\n",
       "       'Administrator', 'Minerals surveyor',\n",
       "       'Scientist, clinical (histocompatibility and immunogenetics)',\n",
       "       'Administrator, education', 'Market researcher',\n",
       "       'Chief Operating Officer', 'Media buyer',\n",
       "       'Armed forces logistics/support/administrative officer',\n",
       "       'Civil engineer, contracting', 'Network engineer',\n",
       "       'Engineer, drilling', 'Multimedia programmer',\n",
       "       'Scientist, research (physical sciences)',\n",
       "       'Special educational needs teacher', 'Geoscientist',\n",
       "       'Psychologist, forensic', 'Horticulturist, commercial',\n",
       "       'Furniture conservator/restorer', 'Chartered loss adjuster',\n",
       "       'Tree surgeon', 'Scientist, marine',\n",
       "       'Product/process development scientist', 'Financial trader',\n",
       "       'Radio producer', 'Mining engineer',\n",
       "       'Training and development officer', 'Chief Strategy Officer',\n",
       "       'Theme park manager', 'Physiological scientist', 'Pathologist',\n",
       "       'Art therapist', 'Teacher, special educational needs',\n",
       "       'Television floor manager', 'Retail merchandiser',\n",
       "       'Corporate investment banker', 'Pilot, airline', 'Statistician',\n",
       "       'Public librarian', 'Insurance underwriter',\n",
       "       'Teacher, English as a foreign language', 'Physiotherapist',\n",
       "       'Teacher, adult education', 'Operations geologist',\n",
       "       'Environmental education officer', 'IT trainer',\n",
       "       'Research officer, trade union', 'Animal technologist',\n",
       "       'Air cabin crew', 'Designer, industrial/product',\n",
       "       'Engineer, civil (contracting)', \"Politician's assistant\",\n",
       "       'Conservator, museum/gallery', 'Soil scientist', 'Arboriculturist',\n",
       "       'Sports development officer', 'Television/film/video producer',\n",
       "       \"Barrister's clerk\", 'Engineer, communications', 'Copy',\n",
       "       'Water quality scientist', 'Immunologist',\n",
       "       'Database administrator', 'Producer, radio', 'Cartographer',\n",
       "       'Health physicist', 'Private music teacher', 'Social researcher',\n",
       "       'Pension scheme manager', 'Psychologist, clinical',\n",
       "       'Building control surveyor', 'Designer, textile', 'Barista',\n",
       "       'Claims inspector/assessor', 'Systems analyst',\n",
       "       'Structural engineer', 'Archaeologist',\n",
       "       'Psychologist, counselling', 'Cytogeneticist', 'Health visitor',\n",
       "       'Emergency planning/management officer',\n",
       "       'Scientist, research (maths)', 'Herbalist',\n",
       "       'Tourist information centre manager', 'Landscape architect',\n",
       "       'Paediatric nurse', 'Video editor', 'Quantity surveyor',\n",
       "       'Geologist, engineering', 'Therapist, drama', 'Doctor, hospital',\n",
       "       'Hydrographic surveyor', 'Glass blower/designer',\n",
       "       'Therapist, horticultural', 'Make', 'Physicist, medical',\n",
       "       'Community arts worker', 'Embryologist, clinical', 'Bookseller',\n",
       "       'Facilities manager', 'Theatre manager',\n",
       "       'Dance movement psychotherapist', 'Scientist, research (medical)',\n",
       "       'Commercial/residential surveyor',\n",
       "       'Administrator, local government', 'Development worker, community',\n",
       "       'Higher education careers adviser', 'Location manager',\n",
       "       'General practice doctor', 'Art gallery manager',\n",
       "       'Pharmacist, hospital', 'Teaching laboratory technician',\n",
       "       'Chemical engineer', 'Geologist, wellsite',\n",
       "       'Presenter, broadcasting', 'Community development worker',\n",
       "       'Immigration officer', 'Chief Technology Officer',\n",
       "       'Engineer, biomedical', 'Logistics and distribution manager',\n",
       "       'Academic librarian', 'Commissioning editor',\n",
       "       'Research scientist (physical sciences)',\n",
       "       'Teacher, secondary school', 'Engineer, agricultural',\n",
       "       'Naval architect', 'Clinical biochemist',\n",
       "       'Restaurant manager, fast food', 'Data scientist',\n",
       "       'Theatre director', 'Radiographer, diagnostic', 'Interpreter',\n",
       "       'Psychiatric nurse', 'Research scientist (life sciences)',\n",
       "       'Learning mentor', 'Lawyer',\n",
       "       'Outdoor activities/education manager', 'Human resources officer',\n",
       "       'Trading standards officer', 'Press sub',\n",
       "       'Regulatory affairs officer', 'Pharmacist, community',\n",
       "       'Engineering geologist', 'Engineer, control and instrumentation',\n",
       "       'Horticultural therapist', 'Maintenance engineer',\n",
       "       'Producer, television/film/video', 'Analytical chemist',\n",
       "       'Surveyor, minerals', 'Hydrologist',\n",
       "       'Manufacturing systems engineer', 'Dispensing optician',\n",
       "       'Product designer', 'Architect', 'Education officer, museum',\n",
       "       'Company secretary', 'Television production assistant',\n",
       "       'Science writer', 'Quarry manager', 'Fitness centre manager',\n",
       "       'Mudlogger', 'Medical physicist', 'Waste management officer',\n",
       "       'Occupational psychologist', 'Colour technologist', 'Fine artist',\n",
       "       'Call centre manager', 'Television camera operator',\n",
       "       'Sport and exercise psychologist', 'Health service manager',\n",
       "       'Interior and spatial designer', 'Nutritional therapist',\n",
       "       'Clinical psychologist', 'Programmer, applications',\n",
       "       'Retail manager', 'Engineer, materials', 'Diagnostic radiographer',\n",
       "       'Designer, interior/spatial', 'Herpetologist',\n",
       "       'Museum/gallery conservator', 'Nurse, mental health',\n",
       "       'Public affairs consultant', 'Management consultant',\n",
       "       'Industrial/product designer', 'Airline pilot', 'Retail buyer',\n",
       "       'Psychologist, sport and exercise', 'Ambulance person',\n",
       "       'Equality and diversity officer',\n",
       "       'Engineer, broadcasting (operations)', 'Plant breeder/geneticist',\n",
       "       'Engineer, maintenance', 'Chemist, analytical',\n",
       "       'Chief Marketing Officer', 'Visual merchandiser',\n",
       "       'Planning and development surveyor', 'Illustrator',\n",
       "       'Merchandiser, retail', 'Psychiatrist', 'Mental health nurse',\n",
       "       'Orthoptist', 'Magazine journalist', 'Doctor, general practice',\n",
       "       'Product manager', 'Advertising account executive',\n",
       "       'Surveyor, mining', 'Pharmacologist', 'Medical secretary',\n",
       "       'Aid worker', 'Cabin crew', 'Nature conservation officer',\n",
       "       'Public relations officer', 'Insurance claims handler',\n",
       "       'Investment banker, operational',\n",
       "       'Administrator, charities/voluntary organisations',\n",
       "       'Oceanographer', 'Therapist, music', 'Local government officer',\n",
       "       'Arts development officer', 'Biochemist, clinical',\n",
       "       'Civil Service administrator', 'Clinical cytogeneticist', 'Writer',\n",
       "       'Garment/textile technologist', 'Research scientist (maths)',\n",
       "       'Museum education officer', 'Teacher, primary school',\n",
       "       'Designer, multimedia', 'Textile designer',\n",
       "       'Civil Service fast streamer', 'Environmental health practitioner',\n",
       "       'Health and safety adviser', 'Designer, television/film set',\n",
       "       'Associate Professor',\n",
       "       'Chartered legal executive (England and Wales)',\n",
       "       'Purchasing manager', 'Surveyor, hydrographic',\n",
       "       'Hospital pharmacist', 'Research scientist (medical)',\n",
       "       'Engineer, structural', 'Field trials officer',\n",
       "       'Engineer, building services', 'Acupuncturist', 'Chief of Staff',\n",
       "       'Records manager', 'Catering manager', 'Event organiser',\n",
       "       'Engineer, petroleum', 'Production engineer',\n",
       "       'Education administrator', 'IT consultant',\n",
       "       'Horticultural consultant', 'Ecologist', 'Engineer, aeronautical',\n",
       "       'Volunteer coordinator', 'Air broker',\n",
       "       'Engineer, civil (consulting)', 'Estate manager/land agent',\n",
       "       'Aeronautical engineer', 'Engineer, manufacturing',\n",
       "       'Architectural technologist', 'Marketing executive',\n",
       "       'Hotel manager', 'Tour manager', 'Professor Emeritus',\n",
       "       'Oncologist', 'TEFL teacher', 'Economist',\n",
       "       'English as a foreign language teacher', 'Hydrogeologist',\n",
       "       'Medical technical officer', 'Charity officer',\n",
       "       'Administrator, arts', 'Occupational therapist',\n",
       "       'Solicitor, Scotland', 'Sports administrator', 'Artist',\n",
       "       'Engineer, water', 'Operational investment banker',\n",
       "       'Software engineer'], dtype=object)"
      ]
     },
     "execution_count": 35,
     "metadata": {},
     "output_type": "execute_result"
    }
   ],
   "source": [
    "train3['job'].unique()"
   ]
  },
  {
   "cell_type": "markdown",
   "metadata": {},
   "source": [
    "### 8. Engineering New Feature: age"
   ]
  },
  {
   "cell_type": "code",
   "execution_count": 36,
   "metadata": {
    "id": "HkFcNlL2bZt5"
   },
   "outputs": [],
   "source": [
    "train3['age'] = np.rint((pd.to_datetime('now') - train3['dob']) / np.timedelta64(1, 'Y'))"
   ]
  },
  {
   "cell_type": "code",
   "execution_count": 37,
   "metadata": {
    "id": "90vYnZ9l3T25"
   },
   "outputs": [],
   "source": [
    "#construct new feature: age\n",
    "test3['age'] = np.rint((pd.to_datetime('now') - test3['dob']) / np.timedelta64(1, 'Y'))"
   ]
  },
  {
   "cell_type": "code",
   "execution_count": 38,
   "metadata": {
    "colab": {
     "base_uri": "https://localhost:8080/"
    },
    "id": "h_jsgAo_eZTR",
    "outputId": "51b9ab4b-ad17-4261-f11b-aa1610110e69"
   },
   "outputs": [
    {
     "data": {
      "text/plain": [
       "0    54.0\n",
       "1    32.0\n",
       "2    52.0\n",
       "3    35.0\n",
       "4    67.0\n",
       "Name: age, dtype: float64"
      ]
     },
     "execution_count": 38,
     "metadata": {},
     "output_type": "execute_result"
    }
   ],
   "source": [
    "train3['age'].head()"
   ]
  },
  {
   "cell_type": "code",
   "execution_count": 39,
   "metadata": {
    "colab": {
     "base_uri": "https://localhost:8080/"
    },
    "id": "Yq230xTszptr",
    "outputId": "5e6d9ae4-2a30-48f3-a618-fd0cae195976"
   },
   "outputs": [
    {
     "name": "stdout",
     "output_type": "stream",
     "text": [
      "<class 'pandas.core.frame.DataFrame'>\n",
      "RangeIndex: 555719 entries, 0 to 555718\n",
      "Data columns (total 20 columns):\n",
      " #   Column                 Non-Null Count   Dtype         \n",
      "---  ------                 --------------   -----         \n",
      " 0   F                      555719 non-null  uint8         \n",
      " 1   trans_date_trans_time  555719 non-null  datetime64[ns]\n",
      " 2   cc_num                 555719 non-null  int64         \n",
      " 3   category               555719 non-null  object        \n",
      " 4   amt                    555719 non-null  float64       \n",
      " 5   zip                    555719 non-null  int64         \n",
      " 6   lat                    555719 non-null  float64       \n",
      " 7   long                   555719 non-null  float64       \n",
      " 8   city_pop               555719 non-null  int64         \n",
      " 9   job                    555719 non-null  object        \n",
      " 10  dob                    555719 non-null  datetime64[ns]\n",
      " 11  unix_time              555719 non-null  int64         \n",
      " 12  merch_lat              555719 non-null  float64       \n",
      " 13  merch_long             555719 non-null  float64       \n",
      " 14  is_fraud               555719 non-null  int64         \n",
      " 15  trans_year             555719 non-null  int64         \n",
      " 16  trans_month            555719 non-null  int64         \n",
      " 17  trans_day              555719 non-null  int64         \n",
      " 18  trans_hour             555719 non-null  int64         \n",
      " 19  age                    555719 non-null  float64       \n",
      "dtypes: datetime64[ns](2), float64(6), int64(9), object(2), uint8(1)\n",
      "memory usage: 81.1+ MB\n"
     ]
    }
   ],
   "source": [
    "train3.info()"
   ]
  },
  {
   "cell_type": "code",
   "execution_count": 40,
   "metadata": {
    "colab": {
     "base_uri": "https://localhost:8080/"
    },
    "id": "j7zo3iG3zhAu",
    "outputId": "c6bd1861-220e-4bae-f65d-59d69ca8a1c4"
   },
   "outputs": [
    {
     "data": {
      "text/plain": [
       "0    0\n",
       "1    0\n",
       "2    0\n",
       "3    0\n",
       "4    0\n",
       "Name: is_fraud, dtype: int64"
      ]
     },
     "execution_count": 40,
     "metadata": {},
     "output_type": "execute_result"
    }
   ],
   "source": [
    "y = train3['is_fraud']\n",
    "y.head()"
   ]
  },
  {
   "cell_type": "code",
   "execution_count": 41,
   "metadata": {
    "colab": {
     "base_uri": "https://localhost:8080/",
     "height": 409
    },
    "id": "ITEHZ8870PAd",
    "outputId": "bf9dd404-230c-4bad-dfd8-31ba44830cb9"
   },
   "outputs": [
    {
     "data": {
      "text/html": [
       "<div>\n",
       "<style scoped>\n",
       "    .dataframe tbody tr th:only-of-type {\n",
       "        vertical-align: middle;\n",
       "    }\n",
       "\n",
       "    .dataframe tbody tr th {\n",
       "        vertical-align: top;\n",
       "    }\n",
       "\n",
       "    .dataframe thead th {\n",
       "        text-align: right;\n",
       "    }\n",
       "</style>\n",
       "<table border=\"1\" class=\"dataframe\">\n",
       "  <thead>\n",
       "    <tr style=\"text-align: right;\">\n",
       "      <th></th>\n",
       "      <th>F</th>\n",
       "      <th>trans_date_trans_time</th>\n",
       "      <th>cc_num</th>\n",
       "      <th>category</th>\n",
       "      <th>amt</th>\n",
       "      <th>zip</th>\n",
       "      <th>lat</th>\n",
       "      <th>long</th>\n",
       "      <th>city_pop</th>\n",
       "      <th>job</th>\n",
       "      <th>dob</th>\n",
       "      <th>unix_time</th>\n",
       "      <th>merch_lat</th>\n",
       "      <th>merch_long</th>\n",
       "      <th>trans_year</th>\n",
       "      <th>trans_month</th>\n",
       "      <th>trans_day</th>\n",
       "      <th>trans_hour</th>\n",
       "      <th>age</th>\n",
       "    </tr>\n",
       "  </thead>\n",
       "  <tbody>\n",
       "    <tr>\n",
       "      <th>0</th>\n",
       "      <td>0</td>\n",
       "      <td>2020-06-21 12:14:25</td>\n",
       "      <td>2291163933867244</td>\n",
       "      <td>personal_care</td>\n",
       "      <td>2.86</td>\n",
       "      <td>29209</td>\n",
       "      <td>33.9659</td>\n",
       "      <td>-80.9355</td>\n",
       "      <td>333497</td>\n",
       "      <td>Mechanical engineer</td>\n",
       "      <td>1968-03-19</td>\n",
       "      <td>1371816865</td>\n",
       "      <td>33.986391</td>\n",
       "      <td>-81.200714</td>\n",
       "      <td>2020</td>\n",
       "      <td>6</td>\n",
       "      <td>21</td>\n",
       "      <td>12</td>\n",
       "      <td>54.0</td>\n",
       "    </tr>\n",
       "    <tr>\n",
       "      <th>1</th>\n",
       "      <td>1</td>\n",
       "      <td>2020-06-21 12:14:33</td>\n",
       "      <td>3573030041201292</td>\n",
       "      <td>personal_care</td>\n",
       "      <td>29.84</td>\n",
       "      <td>84002</td>\n",
       "      <td>40.3207</td>\n",
       "      <td>-110.4360</td>\n",
       "      <td>302</td>\n",
       "      <td>Sales professional, IT</td>\n",
       "      <td>1990-01-17</td>\n",
       "      <td>1371816873</td>\n",
       "      <td>39.450498</td>\n",
       "      <td>-109.960431</td>\n",
       "      <td>2020</td>\n",
       "      <td>6</td>\n",
       "      <td>21</td>\n",
       "      <td>12</td>\n",
       "      <td>32.0</td>\n",
       "    </tr>\n",
       "    <tr>\n",
       "      <th>2</th>\n",
       "      <td>1</td>\n",
       "      <td>2020-06-21 12:14:53</td>\n",
       "      <td>3598215285024754</td>\n",
       "      <td>health_fitness</td>\n",
       "      <td>41.28</td>\n",
       "      <td>11710</td>\n",
       "      <td>40.6729</td>\n",
       "      <td>-73.5365</td>\n",
       "      <td>34496</td>\n",
       "      <td>Librarian, public</td>\n",
       "      <td>1970-10-21</td>\n",
       "      <td>1371816893</td>\n",
       "      <td>40.495810</td>\n",
       "      <td>-74.196111</td>\n",
       "      <td>2020</td>\n",
       "      <td>6</td>\n",
       "      <td>21</td>\n",
       "      <td>12</td>\n",
       "      <td>52.0</td>\n",
       "    </tr>\n",
       "    <tr>\n",
       "      <th>3</th>\n",
       "      <td>0</td>\n",
       "      <td>2020-06-21 12:15:15</td>\n",
       "      <td>3591919803438423</td>\n",
       "      <td>misc_pos</td>\n",
       "      <td>60.05</td>\n",
       "      <td>32780</td>\n",
       "      <td>28.5697</td>\n",
       "      <td>-80.8191</td>\n",
       "      <td>54767</td>\n",
       "      <td>Set designer</td>\n",
       "      <td>1987-07-25</td>\n",
       "      <td>1371816915</td>\n",
       "      <td>28.812398</td>\n",
       "      <td>-80.883061</td>\n",
       "      <td>2020</td>\n",
       "      <td>6</td>\n",
       "      <td>21</td>\n",
       "      <td>12</td>\n",
       "      <td>35.0</td>\n",
       "    </tr>\n",
       "    <tr>\n",
       "      <th>4</th>\n",
       "      <td>0</td>\n",
       "      <td>2020-06-21 12:15:17</td>\n",
       "      <td>3526826139003047</td>\n",
       "      <td>travel</td>\n",
       "      <td>3.19</td>\n",
       "      <td>49632</td>\n",
       "      <td>44.2529</td>\n",
       "      <td>-85.0170</td>\n",
       "      <td>1126</td>\n",
       "      <td>Furniture designer</td>\n",
       "      <td>1955-07-06</td>\n",
       "      <td>1371816917</td>\n",
       "      <td>44.959148</td>\n",
       "      <td>-85.884734</td>\n",
       "      <td>2020</td>\n",
       "      <td>6</td>\n",
       "      <td>21</td>\n",
       "      <td>12</td>\n",
       "      <td>67.0</td>\n",
       "    </tr>\n",
       "  </tbody>\n",
       "</table>\n",
       "</div>"
      ],
      "text/plain": [
       "   F trans_date_trans_time            cc_num        category    amt    zip  \\\n",
       "0  0   2020-06-21 12:14:25  2291163933867244   personal_care   2.86  29209   \n",
       "1  1   2020-06-21 12:14:33  3573030041201292   personal_care  29.84  84002   \n",
       "2  1   2020-06-21 12:14:53  3598215285024754  health_fitness  41.28  11710   \n",
       "3  0   2020-06-21 12:15:15  3591919803438423        misc_pos  60.05  32780   \n",
       "4  0   2020-06-21 12:15:17  3526826139003047          travel   3.19  49632   \n",
       "\n",
       "       lat      long  city_pop                     job        dob   unix_time  \\\n",
       "0  33.9659  -80.9355    333497     Mechanical engineer 1968-03-19  1371816865   \n",
       "1  40.3207 -110.4360       302  Sales professional, IT 1990-01-17  1371816873   \n",
       "2  40.6729  -73.5365     34496       Librarian, public 1970-10-21  1371816893   \n",
       "3  28.5697  -80.8191     54767            Set designer 1987-07-25  1371816915   \n",
       "4  44.2529  -85.0170      1126      Furniture designer 1955-07-06  1371816917   \n",
       "\n",
       "   merch_lat  merch_long  trans_year  trans_month  trans_day  trans_hour   age  \n",
       "0  33.986391  -81.200714        2020            6         21          12  54.0  \n",
       "1  39.450498 -109.960431        2020            6         21          12  32.0  \n",
       "2  40.495810  -74.196111        2020            6         21          12  52.0  \n",
       "3  28.812398  -80.883061        2020            6         21          12  35.0  \n",
       "4  44.959148  -85.884734        2020            6         21          12  67.0  "
      ]
     },
     "execution_count": 41,
     "metadata": {},
     "output_type": "execute_result"
    }
   ],
   "source": [
    "X = train3.drop(['is_fraud'], axis=1)\n",
    "X.head()"
   ]
  },
  {
   "cell_type": "code",
   "execution_count": 42,
   "metadata": {
    "colab": {
     "base_uri": "https://localhost:8080/"
    },
    "id": "j7dsv48I309M",
    "outputId": "eeca4848-9d98-4d15-f2c7-3669f54439c1"
   },
   "outputs": [
    {
     "data": {
      "text/plain": [
       "(555719, 19)"
      ]
     },
     "execution_count": 42,
     "metadata": {},
     "output_type": "execute_result"
    }
   ],
   "source": [
    "X.shape"
   ]
  },
  {
   "cell_type": "code",
   "execution_count": 48,
   "metadata": {},
   "outputs": [
    {
     "name": "stdout",
     "output_type": "stream",
     "text": [
      "<class 'pandas.core.frame.DataFrame'>\n",
      "RangeIndex: 555719 entries, 0 to 555718\n",
      "Data columns (total 19 columns):\n",
      " #   Column                 Non-Null Count   Dtype         \n",
      "---  ------                 --------------   -----         \n",
      " 0   F                      555719 non-null  uint8         \n",
      " 1   trans_date_trans_time  555719 non-null  datetime64[ns]\n",
      " 2   cc_num                 555719 non-null  int64         \n",
      " 3   category               555719 non-null  object        \n",
      " 4   amt                    555719 non-null  float64       \n",
      " 5   zip                    555719 non-null  int64         \n",
      " 6   lat                    555719 non-null  float64       \n",
      " 7   long                   555719 non-null  float64       \n",
      " 8   city_pop               555719 non-null  int64         \n",
      " 9   job                    555719 non-null  object        \n",
      " 10  dob                    555719 non-null  datetime64[ns]\n",
      " 11  unix_time              555719 non-null  int64         \n",
      " 12  merch_lat              555719 non-null  float64       \n",
      " 13  merch_long             555719 non-null  float64       \n",
      " 14  trans_year             555719 non-null  int64         \n",
      " 15  trans_month            555719 non-null  int64         \n",
      " 16  trans_day              555719 non-null  int64         \n",
      " 17  trans_hour             555719 non-null  int64         \n",
      " 18  age                    555719 non-null  float64       \n",
      "dtypes: datetime64[ns](2), float64(6), int64(8), object(2), uint8(1)\n",
      "memory usage: 76.8+ MB\n"
     ]
    }
   ],
   "source": [
    "X.info()"
   ]
  },
  {
   "cell_type": "code",
   "execution_count": 49,
   "metadata": {},
   "outputs": [],
   "source": [
    "from sklearn.preprocessing import OrdinalEncoder\n",
    "\n",
    "cols = ['category', 'job']\n",
    "\n",
    "enc = OrdinalEncoder()\n",
    "X[cols] = enc.fit_transform(X[cols])"
   ]
  },
  {
   "cell_type": "code",
   "execution_count": 54,
   "metadata": {},
   "outputs": [],
   "source": [
    "X = X.drop(['trans_date_trans_time', 'dob'], axis = 1)"
   ]
  },
  {
   "cell_type": "markdown",
   "metadata": {},
   "source": [
    "### 9. Saving Data to S3 Bucket"
   ]
  },
  {
   "cell_type": "code",
   "execution_count": 55,
   "metadata": {},
   "outputs": [],
   "source": [
    "X.to_csv(\"s3://trends-marketplace-data/fraud-detection/train2.csv\", header = False, index = False)"
   ]
  }
 ],
 "metadata": {
  "colab": {
   "name": "Datapreprocessing.ipynb",
   "provenance": []
  },
  "kernelspec": {
   "display_name": "conda_python3",
   "language": "python",
   "name": "conda_python3"
  },
  "language_info": {
   "codemirror_mode": {
    "name": "ipython",
    "version": 3
   },
   "file_extension": ".py",
   "mimetype": "text/x-python",
   "name": "python",
   "nbconvert_exporter": "python",
   "pygments_lexer": "ipython3",
   "version": "3.6.13"
  }
 },
 "nbformat": 4,
 "nbformat_minor": 1
}

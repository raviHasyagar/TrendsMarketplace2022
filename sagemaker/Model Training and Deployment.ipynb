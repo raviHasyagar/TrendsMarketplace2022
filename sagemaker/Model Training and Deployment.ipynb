{
 "cells": [
  {
   "cell_type": "markdown",
   "id": "462988a8",
   "metadata": {},
   "source": [
    "## Sagemaker Training"
   ]
  },
  {
   "cell_type": "code",
   "execution_count": 1,
   "id": "971ff60d",
   "metadata": {},
   "outputs": [],
   "source": [
    "import sagemaker\n",
    "from sagemaker import get_execution_role\n",
    "from sagemaker.predictor import csv_serializer\n",
    "import boto3\n",
    "import os"
   ]
  },
  {
   "cell_type": "code",
   "execution_count": 2,
   "id": "09b82082",
   "metadata": {
    "scrolled": true
   },
   "outputs": [],
   "source": [
    "s3_input_train  = sagemaker.TrainingInput(s3_data='s3://trends-marketplace-data/fraud-detection/train.csv', content_type='csv')\n",
    "#s3_input_validation = sagemaker.s3_input(s3_data='s3://trendzmarket/segmaker/validation/validation.csv', content_type='csv')"
   ]
  },
  {
   "cell_type": "code",
   "execution_count": 3,
   "id": "0b5bf77f",
   "metadata": {},
   "outputs": [
    {
     "name": "stderr",
     "output_type": "stream",
     "text": [
      "The method get_image_uri has been renamed in sagemaker>=2.\n",
      "See: https://sagemaker.readthedocs.io/en/stable/v2.html for details.\n"
     ]
    }
   ],
   "source": [
    "from sagemaker.amazon.amazon_estimator import get_image_uri\n",
    "sess = sagemaker.Session()\n",
    "region = boto3.Session().region_name\n",
    "container = get_image_uri(region, 'xgboost', repo_version='1.0-1')"
   ]
  },
  {
   "cell_type": "code",
   "execution_count": 4,
   "id": "ca34faa4",
   "metadata": {},
   "outputs": [],
   "source": [
    "role = get_execution_role()"
   ]
  },
  {
   "cell_type": "code",
   "execution_count": 5,
   "id": "56fabb45",
   "metadata": {},
   "outputs": [
    {
     "name": "stderr",
     "output_type": "stream",
     "text": [
      "train_instance_count has been renamed in sagemaker>=2.\n",
      "See: https://sagemaker.readthedocs.io/en/stable/v2.html for details.\n",
      "train_instance_type has been renamed in sagemaker>=2.\n",
      "See: https://sagemaker.readthedocs.io/en/stable/v2.html for details.\n"
     ]
    },
    {
     "name": "stdout",
     "output_type": "stream",
     "text": [
      "2022-04-30 03:16:30 Starting - Starting the training job...ProfilerReport-1651288590: InProgress\n",
      "...\n",
      "2022-04-30 03:17:13 Starting - Preparing the instances for training.........\n",
      "2022-04-30 03:18:54 Downloading - Downloading input data...\n",
      "2022-04-30 03:19:16 Training - Downloading the training image......\n",
      "2022-04-30 03:20:17 Training - Training image download completed. Training in progress.\u001b[34mINFO:sagemaker-containers:Imported framework sagemaker_xgboost_container.training\u001b[0m\n",
      "\u001b[34mINFO:sagemaker-containers:Failed to parse hyperparameter objective value binary:logistic to Json.\u001b[0m\n",
      "\u001b[34mReturning the value itself\u001b[0m\n",
      "\u001b[34mINFO:sagemaker-containers:No GPUs detected (normal if no gpus installed)\u001b[0m\n",
      "\u001b[34mINFO:sagemaker_xgboost_container.training:Running XGBoost Sagemaker in algorithm mode\u001b[0m\n",
      "\u001b[34mINFO:root:Determined delimiter of CSV input is ','\u001b[0m\n",
      "\u001b[34mINFO:root:Determined delimiter of CSV input is ','\u001b[0m\n",
      "\u001b[34m[03:20:22] 555719x7 matrix with 3890033 entries loaded from /opt/ml/input/data/train?format=csv&label_column=0&delimiter=,\u001b[0m\n",
      "\u001b[34mINFO:root:Single node training.\u001b[0m\n",
      "\u001b[34mINFO:root:Train matrix has 555719 rows\u001b[0m\n",
      "\u001b[34m[03:20:22] WARNING: /workspace/src/learner.cc:328: \u001b[0m\n",
      "\u001b[34mParameters: { num_round } might not be used.\n",
      "  This may not be accurate due to some parameters are only used in language bindings but\n",
      "  passed down to XGBoost core.  Or some parameters are not used but slip through this\n",
      "  verification. Please open an issue if you find above cases.\u001b[0m\n",
      "\u001b[34m[0]#011train-error:0.00323\u001b[0m\n",
      "\u001b[34m[1]#011train-error:0.00302\u001b[0m\n",
      "\u001b[34m[2]#011train-error:0.00294\u001b[0m\n",
      "\u001b[34m[3]#011train-error:0.00321\u001b[0m\n",
      "\u001b[34m[4]#011train-error:0.00302\u001b[0m\n",
      "\u001b[34m[5]#011train-error:0.00292\u001b[0m\n",
      "\u001b[34m[6]#011train-error:0.00284\u001b[0m\n",
      "\u001b[34m[7]#011train-error:0.00303\u001b[0m\n",
      "\u001b[34m[8]#011train-error:0.00328\u001b[0m\n",
      "\u001b[34m[9]#011train-error:0.00349\u001b[0m\n",
      "\u001b[34m[10]#011train-error:0.00352\u001b[0m\n",
      "\u001b[34m[11]#011train-error:0.00363\u001b[0m\n",
      "\u001b[34m[12]#011train-error:0.00359\u001b[0m\n",
      "\u001b[34m[13]#011train-error:0.00340\u001b[0m\n",
      "\u001b[34m[14]#011train-error:0.00320\u001b[0m\n",
      "\u001b[34m[15]#011train-error:0.00325\u001b[0m\n",
      "\u001b[34m[16]#011train-error:0.00332\u001b[0m\n",
      "\u001b[34m[17]#011train-error:0.00312\u001b[0m\n",
      "\u001b[34m[18]#011train-error:0.00318\u001b[0m\n",
      "\u001b[34m[19]#011train-error:0.00294\u001b[0m\n",
      "\u001b[34m[20]#011train-error:0.00273\u001b[0m\n",
      "\u001b[34m[21]#011train-error:0.00252\u001b[0m\n",
      "\u001b[34m[22]#011train-error:0.00259\u001b[0m\n",
      "\u001b[34m[23]#011train-error:0.00244\u001b[0m\n",
      "\u001b[34m[24]#011train-error:0.00238\u001b[0m\n",
      "\u001b[34m[25]#011train-error:0.00227\u001b[0m\n",
      "\u001b[34m[26]#011train-error:0.00226\u001b[0m\n",
      "\u001b[34m[27]#011train-error:0.00214\u001b[0m\n",
      "\u001b[34m[28]#011train-error:0.00206\u001b[0m\n",
      "\u001b[34m[29]#011train-error:0.00200\u001b[0m\n",
      "\u001b[34m[30]#011train-error:0.00192\u001b[0m\n",
      "\u001b[34m[31]#011train-error:0.00188\u001b[0m\n",
      "\u001b[34m[32]#011train-error:0.00183\u001b[0m\n",
      "\u001b[34m[33]#011train-error:0.00178\u001b[0m\n",
      "\u001b[34m[34]#011train-error:0.00175\u001b[0m\n",
      "\u001b[34m[35]#011train-error:0.00172\u001b[0m\n",
      "\u001b[34m[36]#011train-error:0.00171\u001b[0m\n",
      "\u001b[34m[37]#011train-error:0.00170\u001b[0m\n",
      "\u001b[34m[38]#011train-error:0.00166\u001b[0m\n",
      "\u001b[34m[39]#011train-error:0.00164\u001b[0m\n",
      "\u001b[34m[40]#011train-error:0.00160\u001b[0m\n",
      "\u001b[34m[41]#011train-error:0.00156\u001b[0m\n",
      "\u001b[34m[42]#011train-error:0.00156\u001b[0m\n",
      "\u001b[34m[43]#011train-error:0.00150\u001b[0m\n",
      "\u001b[34m[44]#011train-error:0.00149\u001b[0m\n",
      "\u001b[34m[45]#011train-error:0.00148\u001b[0m\n",
      "\u001b[34m[46]#011train-error:0.00147\u001b[0m\n",
      "\u001b[34m[47]#011train-error:0.00141\u001b[0m\n",
      "\u001b[34m[48]#011train-error:0.00140\u001b[0m\n",
      "\u001b[34m[49]#011train-error:0.00137\u001b[0m\n",
      "\u001b[34m[50]#011train-error:0.00134\u001b[0m\n",
      "\u001b[34m[51]#011train-error:0.00131\u001b[0m\n",
      "\u001b[34m[52]#011train-error:0.00125\u001b[0m\n",
      "\u001b[34m[53]#011train-error:0.00124\u001b[0m\n",
      "\u001b[34m[54]#011train-error:0.00118\u001b[0m\n",
      "\u001b[34m[55]#011train-error:0.00112\u001b[0m\n",
      "\u001b[34m[56]#011train-error:0.00108\u001b[0m\n",
      "\u001b[34m[57]#011train-error:0.00106\u001b[0m\n",
      "\u001b[34m[58]#011train-error:0.00105\u001b[0m\n",
      "\u001b[34m[59]#011train-error:0.00104\u001b[0m\n",
      "\u001b[34m[60]#011train-error:0.00104\u001b[0m\n",
      "\u001b[34m[61]#011train-error:0.00103\u001b[0m\n",
      "\u001b[34m[62]#011train-error:0.00101\u001b[0m\n",
      "\u001b[34m[63]#011train-error:0.00096\u001b[0m\n",
      "\u001b[34m[64]#011train-error:0.00096\u001b[0m\n",
      "\u001b[34m[65]#011train-error:0.00093\u001b[0m\n",
      "\u001b[34m[66]#011train-error:0.00091\u001b[0m\n",
      "\u001b[34m[67]#011train-error:0.00090\u001b[0m\n",
      "\u001b[34m[68]#011train-error:0.00085\u001b[0m\n",
      "\u001b[34m[69]#011train-error:0.00084\u001b[0m\n",
      "\u001b[34m[70]#011train-error:0.00082\u001b[0m\n",
      "\u001b[34m[71]#011train-error:0.00080\u001b[0m\n",
      "\u001b[34m[72]#011train-error:0.00078\u001b[0m\n",
      "\u001b[34m[73]#011train-error:0.00077\u001b[0m\n",
      "\u001b[34m[74]#011train-error:0.00076\u001b[0m\n",
      "\u001b[34m[75]#011train-error:0.00074\u001b[0m\n",
      "\u001b[34m[76]#011train-error:0.00072\u001b[0m\n",
      "\u001b[34m[77]#011train-error:0.00071\u001b[0m\n",
      "\u001b[34m[78]#011train-error:0.00071\u001b[0m\n",
      "\u001b[34m[79]#011train-error:0.00068\u001b[0m\n",
      "\u001b[34m[80]#011train-error:0.00066\u001b[0m\n",
      "\u001b[34m[81]#011train-error:0.00065\u001b[0m\n",
      "\u001b[34m[82]#011train-error:0.00064\u001b[0m\n",
      "\u001b[34m[83]#011train-error:0.00064\u001b[0m\n",
      "\u001b[34m[84]#011train-error:0.00062\u001b[0m\n",
      "\u001b[34m[85]#011train-error:0.00061\u001b[0m\n",
      "\u001b[34m[86]#011train-error:0.00060\u001b[0m\n",
      "\u001b[34m[87]#011train-error:0.00058\u001b[0m\n",
      "\u001b[34m[88]#011train-error:0.00058\u001b[0m\n",
      "\u001b[34m[89]#011train-error:0.00056\u001b[0m\n",
      "\u001b[34m[90]#011train-error:0.00055\u001b[0m\n",
      "\u001b[34m[91]#011train-error:0.00055\u001b[0m\n",
      "\u001b[34m[92]#011train-error:0.00051\u001b[0m\n",
      "\u001b[34m[93]#011train-error:0.00048\u001b[0m\n",
      "\u001b[34m[94]#011train-error:0.00047\u001b[0m\n",
      "\u001b[34m[95]#011train-error:0.00045\u001b[0m\n",
      "\u001b[34m[96]#011train-error:0.00044\u001b[0m\n",
      "\n",
      "2022-04-30 03:21:27 Uploading - Uploading generated training model\u001b[34m[97]#011train-error:0.00042\u001b[0m\n",
      "\u001b[34m[98]#011train-error:0.00038\u001b[0m\n",
      "\u001b[34m[99]#011train-error:0.00038\u001b[0m\n",
      "\n",
      "2022-04-30 03:21:55 Completed - Training job completed\n",
      "ProfilerReport-1651288590: NoIssuesFound\n",
      "Training seconds: 178\n",
      "Billable seconds: 178\n"
     ]
    }
   ],
   "source": [
    "xgb = sagemaker.estimator.Estimator(container,\n",
    "                                    role, \n",
    "                                    train_instance_count=1, \n",
    "                                    train_instance_type='ml.m4.xlarge',\n",
    "                                    output_path= 's3://trends-marketplace-data/fraud-detection/modelDir/model.joblib/',\n",
    "                                    sagemaker_session=sess)\n",
    "xgb.set_hyperparameters(max_depth=10,\\\n",
    "                        objective='binary:logistic', \\\n",
    "                        eta =0.2,\\\n",
    "                        gamma=0,\\\n",
    "                        min_child_weight=1,\\\n",
    "                        max_delta_step=0,\\\n",
    "                        subsample=0.85, \\\n",
    "                        colsample_bytree=0.7,\\\n",
    "                        colsample_bylevel=1,\\\n",
    "                        alpha=0,\\\n",
    "                        scale_pos_weight=1,\\\n",
    "                        num_round = 100,\\\n",
    "                        seed=42)\n",
    "\n",
    "xgb.fit({'train': s3_input_train})"
   ]
  },
  {
   "cell_type": "markdown",
   "id": "a6b72190",
   "metadata": {},
   "source": [
    "### Model Deployment"
   ]
  },
  {
   "cell_type": "code",
   "execution_count": 11,
   "id": "863c96f4",
   "metadata": {},
   "outputs": [
    {
     "name": "stdout",
     "output_type": "stream",
     "text": [
      "-------!"
     ]
    }
   ],
   "source": [
    "xgb_predictor = xgb.deploy(initial_instance_count=1, instance_type='ml.t2.medium', endpoint_name = 'fifa')"
   ]
  },
  {
   "cell_type": "markdown",
   "id": "acf7e592",
   "metadata": {},
   "source": [
    "### Endpoint Deletion"
   ]
  },
  {
   "cell_type": "code",
   "execution_count": 12,
   "id": "8297cd9b",
   "metadata": {},
   "outputs": [],
   "source": [
    "xgb_predictor.delete_endpoint()"
   ]
  }
 ],
 "metadata": {
  "kernelspec": {
   "display_name": "conda_python3",
   "language": "python",
   "name": "conda_python3"
  },
  "language_info": {
   "codemirror_mode": {
    "name": "ipython",
    "version": 3
   },
   "file_extension": ".py",
   "mimetype": "text/x-python",
   "name": "python",
   "nbconvert_exporter": "python",
   "pygments_lexer": "ipython3",
   "version": "3.6.13"
  }
 },
 "nbformat": 4,
 "nbformat_minor": 5
}
